{
 "cells": [
  {
   "cell_type": "markdown",
   "metadata": {},
   "source": [
    "# Financial Planning with APIs and Simulations\n",
    "\n",
    "In this Challenge, you’ll create two financial analysis tools by using a single Jupyter notebook:\n",
    "\n",
    "Part 1: A financial planner for emergencies. The members will be able to use this tool to visualize their current savings. The members can then determine if they have enough reserves for an emergency fund.\n",
    "\n",
    "Part 2: A financial planner for retirement. This tool will forecast the performance of their retirement portfolio in 30 years. To do this, the tool will make an Alpaca API call via the Alpaca SDK to get historical price data for use in Monte Carlo simulations.\n",
    "\n",
    "You’ll use the information from the Monte Carlo simulation to answer questions about the portfolio in your Jupyter notebook.\n",
    "\n"
   ]
  },
  {
   "cell_type": "code",
   "execution_count": 2,
   "metadata": {},
   "outputs": [],
   "source": [
    "# Import the required libraries and dependencies\n",
    "import os\n",
    "import requests\n",
    "import json\n",
    "import pandas as pd\n",
    "from dotenv import load_dotenv\n",
    "import alpaca_trade_api as tradeapi\n",
    "from MCForecastTools import MCSimulation\n",
    "from datetime import date\n",
    "from datetime import timedelta\n",
    "\n",
    "%matplotlib inline"
   ]
  },
  {
   "cell_type": "code",
   "execution_count": 3,
   "metadata": {},
   "outputs": [
    {
     "data": {
      "text/plain": [
       "True"
      ]
     },
     "execution_count": 3,
     "metadata": {},
     "output_type": "execute_result"
    }
   ],
   "source": [
    "# Load the environment variables from the .env file\n",
    "#by calling the load_dotenv function\n",
    "load_dotenv()"
   ]
  },
  {
   "cell_type": "markdown",
   "metadata": {},
   "source": [
    "## Part 1: Create a Financial Planner for Emergencies"
   ]
  },
  {
   "cell_type": "markdown",
   "metadata": {},
   "source": [
    "### Evaluate the Cryptocurrency Wallet by Using the Requests Library\n",
    "\n",
    "In this section, you’ll determine the current value of a member’s cryptocurrency wallet. You’ll collect the current prices for the Bitcoin and Ethereum cryptocurrencies by using the Python Requests library. For the prototype, you’ll assume that the member holds the 1.2 Bitcoins (BTC) and 5.3 Ethereum coins (ETH). To do all this, complete the following steps:\n",
    "\n",
    "1. Create a variable named `monthly_income`, and set its value to `12000`.\n",
    "\n",
    "2. Use the Requests library to get the current price (in US dollars) of Bitcoin (BTC) and Ethereum (ETH) by using the API endpoints that the starter code supplies.\n",
    "\n",
    "3. Navigate the JSON response object to access the current price of each coin, and store each in a variable.\n",
    "\n",
    "    > **Hint** Note the specific identifier for each cryptocurrency in the API JSON response. The Bitcoin identifier is `1`, and the Ethereum identifier is `1027`.\n",
    "\n",
    "4. Calculate the value, in US dollars, of the current amount of each cryptocurrency and of the entire cryptocurrency wallet.\n",
    "\n"
   ]
  },
  {
   "cell_type": "code",
   "execution_count": 4,
   "metadata": {},
   "outputs": [],
   "source": [
    "# The current number of coins for each cryptocurrency asset held in the portfolio.\n",
    "btc_coins = 1.2\n",
    "eth_coins = 5.3"
   ]
  },
  {
   "cell_type": "markdown",
   "metadata": {},
   "source": [
    "#### Step 1: Create a variable named `monthly_income`, and set its value to `12000`."
   ]
  },
  {
   "cell_type": "code",
   "execution_count": 5,
   "metadata": {},
   "outputs": [],
   "source": [
    "# The monthly amount for the member's household income\n",
    "# YOUR CODE HERE\n",
    "monthly_income = 12000"
   ]
  },
  {
   "cell_type": "markdown",
   "metadata": {},
   "source": [
    "#### Review the endpoint URLs for the API calls to Free Crypto API in order to get the current pricing information for both BTC and ETH."
   ]
  },
  {
   "cell_type": "code",
   "execution_count": 6,
   "metadata": {},
   "outputs": [],
   "source": [
    "# The Free Crypto API Call endpoint URLs for the held cryptocurrency assets\n",
    "btc_url = \"https://api.alternative.me/v2/ticker/Bitcoin/?convert=USD\"\n",
    "eth_url = \"https://api.alternative.me/v2/ticker/Ethereum/?convert=USD\""
   ]
  },
  {
   "cell_type": "markdown",
   "metadata": {},
   "source": [
    "#### Step 2. Use the Requests library to get the current price (in US dollars) of Bitcoin (BTC) and Ethereum (ETH) by using the API endpoints that the starter code supplied."
   ]
  },
  {
   "cell_type": "code",
   "execution_count": 7,
   "metadata": {},
   "outputs": [
    {
     "name": "stdout",
     "output_type": "stream",
     "text": [
      "{\n",
      "   \"data\": {\n",
      "      \"1\": {\n",
      "         \"id\": 1,\n",
      "         \"name\": \"Bitcoin\",\n",
      "         \"symbol\": \"BTC\",\n",
      "         \"website_slug\": \"bitcoin\",\n",
      "         \"rank\": 1,\n",
      "         \"circulating_supply\": 19290187,\n",
      "         \"total_supply\": 19290187,\n",
      "         \"max_supply\": 21000000,\n",
      "         \"quotes\": {\n",
      "            \"USD\": {\n",
      "               \"price\": 21755.0,\n",
      "               \"volume_24h\": 36333830588,\n",
      "               \"market_cap\": 420083028021,\n",
      "               \"percentage_change_1h\": -0.245632354959349,\n",
      "               \"percentage_change_24h\": -0.234839640379734,\n",
      "               \"percentage_change_7d\": -4.52862303346846,\n",
      "               \"percent_change_1h\": -0.245632354959349,\n",
      "               \"percent_change_24h\": -0.234839640379734,\n",
      "               \"percent_change_7d\": -4.52862303346846\n",
      "            }\n",
      "         },\n",
      "         \"last_updated\": 1676337503\n",
      "      }\n",
      "   },\n",
      "   \"metadata\": {\n",
      "      \"timestamp\": 1676337503,\n",
      "      \"num_cryptocurrencies\": 3119,\n",
      "      \"error\": null\n",
      "   }\n",
      "}\n"
     ]
    }
   ],
   "source": [
    "# Using the Python requests library, make an API call to access the current price of BTC\n",
    "btc_response = requests.get(btc_url)\n",
    "\n",
    "# Use the json.dumps function to review the response data from the API call\n",
    "# Use the indent and sort_keys parameters to make the response object readable\n",
    "print(json.dumps(btc_response.json(), indent=3))\n"
   ]
  },
  {
   "cell_type": "code",
   "execution_count": 8,
   "metadata": {},
   "outputs": [
    {
     "name": "stdout",
     "output_type": "stream",
     "text": [
      "{\n",
      "   \"data\": {\n",
      "      \"1027\": {\n",
      "         \"id\": 1027,\n",
      "         \"name\": \"Ethereum\",\n",
      "         \"symbol\": \"ETH\",\n",
      "         \"website_slug\": \"ethereum\",\n",
      "         \"rank\": 2,\n",
      "         \"circulating_supply\": 120504266,\n",
      "         \"total_supply\": 120504266,\n",
      "         \"max_supply\": 120504266,\n",
      "         \"quotes\": {\n",
      "            \"USD\": {\n",
      "               \"price\": 1501.51,\n",
      "               \"volume_24h\": 11318023129,\n",
      "               \"market_cap\": 181220533376,\n",
      "               \"percentage_change_1h\": -0.331669868063437,\n",
      "               \"percentage_change_24h\": -0.839578168805261,\n",
      "               \"percentage_change_7d\": -7.15047751719583,\n",
      "               \"percent_change_1h\": -0.331669868063437,\n",
      "               \"percent_change_24h\": -0.839578168805261,\n",
      "               \"percent_change_7d\": -7.15047751719583\n",
      "            }\n",
      "         },\n",
      "         \"last_updated\": 1676337538\n",
      "      }\n",
      "   },\n",
      "   \"metadata\": {\n",
      "      \"timestamp\": 1676337538,\n",
      "      \"num_cryptocurrencies\": 3119,\n",
      "      \"error\": null\n",
      "   }\n",
      "}\n"
     ]
    }
   ],
   "source": [
    "# Using the Python requests library, make an API call to access the current price ETH\n",
    "eth_response = requests.get(eth_url)\n",
    "\n",
    "# Use the json.dumps function to review the response data from the API call\n",
    "# Use the indent and sort_keys parameters to make the response object readable\n",
    "print(json.dumps(eth_response.json(), indent=3))\n"
   ]
  },
  {
   "cell_type": "markdown",
   "metadata": {},
   "source": [
    "#### Step 3: Navigate the JSON response object to access the current price of each coin, and store each in a variable."
   ]
  },
  {
   "cell_type": "code",
   "execution_count": 9,
   "metadata": {},
   "outputs": [
    {
     "name": "stdout",
     "output_type": "stream",
     "text": [
      "21755.0\n"
     ]
    }
   ],
   "source": [
    "# Navigate the BTC response object to access the current price of BTC\n",
    "btc_price = btc_response.json()['data']['1']['quotes']['USD']['price']\n",
    "\n",
    "# Print the current price of BTC\n",
    "print(btc_price)\n"
   ]
  },
  {
   "cell_type": "code",
   "execution_count": 10,
   "metadata": {},
   "outputs": [
    {
     "name": "stdout",
     "output_type": "stream",
     "text": [
      "1501.51\n"
     ]
    }
   ],
   "source": [
    "# Navigate the BTC response object to access the current price of ETH\n",
    "eth_price = eth_response.json()['data']['1027']['quotes']['USD']['price']\n",
    "\n",
    "# Print the current price of ETH\n",
    "print(eth_price)\n"
   ]
  },
  {
   "cell_type": "markdown",
   "metadata": {},
   "source": [
    "### Step 4: Calculate the value, in US dollars, of the current amount of each cryptocurrency and of the entire cryptocurrency wallet."
   ]
  },
  {
   "cell_type": "code",
   "execution_count": 11,
   "metadata": {},
   "outputs": [
    {
     "name": "stdout",
     "output_type": "stream",
     "text": [
      "26106.0\n"
     ]
    }
   ],
   "source": [
    "# Compute the current value of the BTC holding \n",
    "btc_value = btc_price * btc_coins\n",
    "\n",
    "# Print current value of your holding in BTC\n",
    "print(btc_value)\n"
   ]
  },
  {
   "cell_type": "code",
   "execution_count": 12,
   "metadata": {},
   "outputs": [
    {
     "data": {
      "text/plain": [
       "7958.003"
      ]
     },
     "execution_count": 12,
     "metadata": {},
     "output_type": "execute_result"
    }
   ],
   "source": [
    "# Compute the current value of the ETH holding \n",
    "eth_value = eth_price * eth_coins\n",
    "\n",
    "# Print current value of your holding in ETH\n",
    "eth_value\n"
   ]
  },
  {
   "cell_type": "code",
   "execution_count": 13,
   "metadata": {},
   "outputs": [
    {
     "name": "stdout",
     "output_type": "stream",
     "text": [
      "34064.003\n"
     ]
    }
   ],
   "source": [
    "# Compute the total value of the cryptocurrency wallet\n",
    "# Add the value of the BTC holding to the value of the ETH holding\n",
    "total_crypto_wallet = btc_value + eth_value\n",
    "\n",
    "# Print current cryptocurrency wallet balance\n",
    "print(total_crypto_wallet)\n"
   ]
  },
  {
   "cell_type": "markdown",
   "metadata": {},
   "source": [
    "### Evaluate the Stock and Bond Holdings by Using the Alpaca SDK\n",
    "\n",
    "In this section, you’ll determine the current value of a member’s stock and bond holdings. You’ll make an API call to Alpaca via the Alpaca SDK to get the current closing prices of the SPDR S&P 500 ETF Trust (ticker: SPY) and of the iShares Core US Aggregate Bond ETF (ticker: AGG). For the prototype, assume that the member holds 110 shares of SPY, which represents the stock portion of their portfolio, and 200 shares of AGG, which represents the bond portion. To do all this, complete the following steps:\n",
    "\n",
    "1. In the `Starter_Code` folder, create an environment file (`.env`) to store the values of your Alpaca API key and Alpaca secret key.\n",
    "\n",
    "2. Set the variables for the Alpaca API and secret keys. Using the Alpaca SDK, create the Alpaca `tradeapi.REST` object. In this object, include the parameters for the Alpaca API key, the secret key, and the version number.\n",
    "\n",
    "3. Set the following parameters for the Alpaca API call:\n",
    "\n",
    "    - `tickers`: Use the tickers for the member’s stock and bond holdings.\n",
    "\n",
    "    - `timeframe`: Use a time frame of one day.\n",
    "\n",
    "    - `start_date` and `end_date`: Use the same date for these parameters, and format them with the date of the previous weekday (or `2020-08-07`). This is because you want the one closing price for the most-recent trading day.\n",
    "\n",
    "4. Get the current closing prices for `SPY` and `AGG` by using the Alpaca `get_bars` function. Format the response as a Pandas DataFrame by including the `df` property at the end of the `get_bars` function.\n",
    "\n",
    "5. Navigating the Alpaca response DataFrame, select the `SPY` and `AGG` closing prices, and store them as variables.\n",
    "\n",
    "6. Calculate the value, in US dollars, of the current amount of shares in each of the stock and bond portions of the portfolio, and print the results.\n"
   ]
  },
  {
   "cell_type": "markdown",
   "metadata": {},
   "source": [
    "#### Review the total number of shares held in both (SPY) and (AGG)."
   ]
  },
  {
   "cell_type": "code",
   "execution_count": 14,
   "metadata": {},
   "outputs": [],
   "source": [
    "# Current amount of shares held in both the stock (SPY) and bond (AGG) portion of the portfolio.\n",
    "spy_shares = 110\n",
    "agg_shares = 200\n"
   ]
  },
  {
   "cell_type": "markdown",
   "metadata": {},
   "source": [
    "#### Step 1: In the `Starter_Code` folder, create an environment file (`.env`) to store the values of your Alpaca API key and Alpaca secret key."
   ]
  },
  {
   "cell_type": "markdown",
   "metadata": {},
   "source": [
    "#### Step 2: Set the variables for the Alpaca API and secret keys. Using the Alpaca SDK, create the Alpaca `tradeapi.REST` object. In this object, include the parameters for the Alpaca API key, the secret key, and the version number."
   ]
  },
  {
   "cell_type": "code",
   "execution_count": 15,
   "metadata": {},
   "outputs": [],
   "source": [
    "# Set the variables for the Alpaca API and secret keys\n",
    "alpaca_api_key = os.getenv(\"ALPACA_API_KEY\")\n",
    "alpaca_secret_key = os.getenv(\"ALPACA_SECRET_KEY\")\n",
    "\n",
    "# Create the Alpaca tradeapi.REST object\n",
    "alpaca = tradeapi.REST(\n",
    "    alpaca_api_key,\n",
    "    alpaca_secret_key,\n",
    "    api_version=\"v2\")\n"
   ]
  },
  {
   "cell_type": "markdown",
   "metadata": {},
   "source": [
    "#### Step 3: Set the following parameters for the Alpaca API call:\n",
    "\n",
    "- `tickers`: Use the tickers for the member’s stock and bond holdings.\n",
    "\n",
    "- `timeframe`: Use a time frame of one day.\n",
    "\n",
    "- `start_date` and `end_date`: Use the same date for these parameters, and format them with the date of the previous weekday (or `2020-08-07`). This is because you want the one closing price for the most-recent trading day.\n"
   ]
  },
  {
   "cell_type": "code",
   "execution_count": 16,
   "metadata": {},
   "outputs": [
    {
     "name": "stdout",
     "output_type": "stream",
     "text": [
      "2020-08-07T00:00:00-04:00\n",
      "2020-08-07T00:00:00-04:00\n"
     ]
    }
   ],
   "source": [
    "# Set the tickers for both the bond and stock portion of the portfolio\n",
    "tickers = [\"SPY\",\"AGG\"]\n",
    "\n",
    "# Set timeframe to 1Day\n",
    "timeframe = \"1D\"\n",
    "\n",
    "# Format current date as ISO format\n",
    "# Set both the start and end date at the date of your prior weekday \n",
    "# This will give you the closing price of the previous trading day\n",
    "# Alternatively you can use a start and end date of 2020-08-07\n",
    "# start_date = pd.Timestamp(date.today() - timedelta(days=2), tz=\"America/New_York\").isoformat()\n",
    "# end_date = pd.Timestamp(date.today() - timedelta(days=2), tz=\"America/New_York\").isoformat()\n",
    "start_date = pd.Timestamp('2020-08-07', tz=\"America/New_York\").isoformat()\n",
    "end_date = pd.Timestamp('2020-08-07', tz=\"America/New_York\").isoformat()\n",
    "\n",
    "print(start_date)\n",
    "print(end_date)"
   ]
  },
  {
   "cell_type": "markdown",
   "metadata": {},
   "source": [
    "#### Step 4: Get the current closing prices for `SPY` and `AGG` by using the Alpaca `get_bars` function. Format the response as a Pandas DataFrame by including the `df` property at the end of the `get_bars` function."
   ]
  },
  {
   "cell_type": "code",
   "execution_count": 17,
   "metadata": {},
   "outputs": [
    {
     "name": "stdout",
     "output_type": "stream",
     "text": [
      "                              SPY                                   \\\n",
      "                             open    high    low   close    volume   \n",
      "timestamp                                                            \n",
      "2020-08-07 04:00:00+00:00  333.28  334.88  332.3  334.57  57282821   \n",
      "\n",
      "                                                      AGG                   \\\n",
      "                          trade_count        vwap    open    high      low   \n",
      "timestamp                                                                    \n",
      "2020-08-07 04:00:00+00:00      350100  333.800372  119.66  119.73  119.395   \n",
      "\n",
      "                                                                    \n",
      "                            close   volume trade_count        vwap  \n",
      "timestamp                                                           \n",
      "2020-08-07 04:00:00+00:00  119.43  5559066       15246  119.475306  \n"
     ]
    }
   ],
   "source": [
    "# Use the Alpaca get_bars function to get current closing prices the portfolio\n",
    "# Be sure to set the `df` property after the function to format the response object as a DataFrame\n",
    "prices_df = alpaca.get_bars(\n",
    "    tickers,\n",
    "    timeframe,\n",
    "    start=start_date,\n",
    "    end=end_date\n",
    ").df\n",
    "\n",
    "# Reorganize the DataFrame\n",
    "# Separate ticker data\n",
    "SPY = prices_df[prices_df['symbol']=='SPY'].drop('symbol', axis=1)\n",
    "AGG = prices_df[prices_df['symbol']=='AGG'].drop('symbol', axis=1)\n",
    "\n",
    "\n",
    "# Concatenate the ticker DataFrames\n",
    "prices_df = pd.concat([SPY, AGG], axis=1, keys=[\"SPY\", \"AGG\"])\n",
    "\n",
    "# Review the first 5 rows of the Alpaca DataFrame\n",
    "print(prices_df.head(5))\n"
   ]
  },
  {
   "cell_type": "markdown",
   "metadata": {},
   "source": [
    "#### Step 5: Navigating the Alpaca response DataFrame, select the `SPY` and `AGG` closing prices, and store them as variables."
   ]
  },
  {
   "cell_type": "code",
   "execution_count": 18,
   "metadata": {},
   "outputs": [
    {
     "name": "stdout",
     "output_type": "stream",
     "text": [
      "119.43\n"
     ]
    }
   ],
   "source": [
    "# Access the closing price for AGG from the Alpaca DataFrame\n",
    "# Converting the value to a floating point number\n",
    "agg_close_price = float(prices_df['AGG']['close'][0])\n",
    "\n",
    "# Print the AGG closing price\n",
    "print(agg_close_price)\n"
   ]
  },
  {
   "cell_type": "code",
   "execution_count": 19,
   "metadata": {},
   "outputs": [
    {
     "name": "stdout",
     "output_type": "stream",
     "text": [
      "334.57\n"
     ]
    }
   ],
   "source": [
    "# Access the closing price for SPY from the Alpaca DataFrame\n",
    "# Converting the value to a floating point number\n",
    "spy_close_price = float(prices_df['SPY']['close'][0])\n",
    "\n",
    "# Print the SPY closing price\n",
    "print(spy_close_price)\n"
   ]
  },
  {
   "cell_type": "markdown",
   "metadata": {},
   "source": [
    "#### Step 6: Calculate the value, in US dollars, of the current amount of shares in each of the stock and bond portions of the portfolio, and print the results."
   ]
  },
  {
   "cell_type": "code",
   "execution_count": 20,
   "metadata": {},
   "outputs": [
    {
     "name": "stdout",
     "output_type": "stream",
     "text": [
      "23886.0\n"
     ]
    }
   ],
   "source": [
    "# Calculate the current value of the bond portion of the portfolio\n",
    "agg_value = agg_close_price * agg_shares\n",
    "\n",
    "# Print the current value of the bond portfolio\n",
    "print(agg_value)\n"
   ]
  },
  {
   "cell_type": "code",
   "execution_count": 21,
   "metadata": {},
   "outputs": [
    {
     "name": "stdout",
     "output_type": "stream",
     "text": [
      "36802.7\n"
     ]
    }
   ],
   "source": [
    "# Calculate the current value of the stock portion of the portfolio\n",
    "spy_value = spy_close_price * spy_shares\n",
    "\n",
    "# Print the current value of the stock portfolio\n",
    "print(spy_value)\n"
   ]
  },
  {
   "cell_type": "code",
   "execution_count": 22,
   "metadata": {},
   "outputs": [
    {
     "name": "stdout",
     "output_type": "stream",
     "text": [
      "60688.7\n"
     ]
    }
   ],
   "source": [
    "# Calculate the total value of the stock and bond portion of the portfolio\n",
    "total_stocks_bonds = agg_value + spy_value\n",
    "\n",
    "# Print the current balance of the stock and bond portion of the portfolio\n",
    "print(total_stocks_bonds)\n"
   ]
  },
  {
   "cell_type": "code",
   "execution_count": 23,
   "metadata": {},
   "outputs": [
    {
     "name": "stdout",
     "output_type": "stream",
     "text": [
      "94752.703\n"
     ]
    }
   ],
   "source": [
    "# Calculate the total value of the member's entire savings portfolio\n",
    "# Add the value of the cryptocurrency walled to the value of the total stocks and bonds\n",
    "total_portfolio = total_crypto_wallet + total_stocks_bonds\n",
    "\n",
    "# Print current cryptocurrency wallet balance\n",
    "print(total_portfolio)\n"
   ]
  },
  {
   "cell_type": "markdown",
   "metadata": {},
   "source": [
    "### Evaluate the Emergency Fund\n",
    "\n",
    "In this section, you’ll use the valuations for the cryptocurrency wallet and for the stock and bond portions of the portfolio to determine if the credit union member has enough savings to build an emergency fund into their financial plan. To do this, complete the following steps:\n",
    "\n",
    "1. Create a Python list named `savings_data` that has two elements. The first element contains the total value of the cryptocurrency wallet. The second element contains the total value of the stock and bond portions of the portfolio.\n",
    "\n",
    "2. Use the `savings_data` list to create a Pandas DataFrame named `savings_df`, and then display this DataFrame. The function to create the DataFrame should take the following three parameters:\n",
    "\n",
    "    - `savings_data`: Use the list that you just created.\n",
    "\n",
    "    - `columns`: Set this parameter equal to a Python list with a single value called `amount`.\n",
    "\n",
    "    - `index`: Set this parameter equal to a Python list with the values of `crypto` and `stock/bond`.\n",
    "\n",
    "3. Use the `savings_df` DataFrame to plot a pie chart that visualizes the composition of the member’s portfolio. The y-axis of the pie chart uses `amount`. Be sure to add a title.\n",
    "\n",
    "4. Using Python, determine if the current portfolio has enough to create an emergency fund as part of the member’s financial plan. Ideally, an emergency fund should equal to three times the member’s monthly income. To do this, implement the following steps:\n",
    "\n",
    "    1. Create a variable named `emergency_fund_value`, and set it equal to three times the value of the member’s `monthly_income` of $12000. (You set this earlier in Part 1).\n",
    "\n",
    "    2. Create a series of three if statements to determine if the member’s total portfolio is large enough to fund the emergency portfolio:\n",
    "\n",
    "        1. If the total portfolio value is greater than the emergency fund value, display a message congratulating the member for having enough money in this fund.\n",
    "\n",
    "        2. Else if the total portfolio value is equal to the emergency fund value, display a message congratulating the member on reaching this important financial goal.\n",
    "\n",
    "        3. Else the total portfolio is less than the emergency fund value, so display a message showing how many dollars away the member is from reaching the goal. (Subtract the total portfolio value from the emergency fund value.)\n"
   ]
  },
  {
   "cell_type": "markdown",
   "metadata": {},
   "source": [
    "#### Step 1: Create a Python list named `savings_data` that has two elements. The first element contains the total value of the cryptocurrency wallet. The second element contains the total value of the stock and bond portions of the portfolio."
   ]
  },
  {
   "cell_type": "code",
   "execution_count": 24,
   "metadata": {},
   "outputs": [
    {
     "data": {
      "text/plain": [
       "[34064.003, 60688.7]"
      ]
     },
     "execution_count": 24,
     "metadata": {},
     "output_type": "execute_result"
    }
   ],
   "source": [
    "# Consolidate financial assets data into a Python list\n",
    "savings_data = [total_crypto_wallet, total_stocks_bonds]\n",
    "\n",
    "# Review the Python list savings_data\n",
    "savings_data\n",
    "    "
   ]
  },
  {
   "cell_type": "markdown",
   "metadata": {},
   "source": [
    "#### Step 2: Use the `savings_data` list to create a Pandas DataFrame named `savings_df`, and then display this DataFrame. The function to create the DataFrame should take the following three parameters:\n",
    "\n",
    "- `savings_data`: Use the list that you just created.\n",
    "\n",
    "- `columns`: Set this parameter equal to a Python list with a single value called `amount`.\n",
    "\n",
    "- `index`: Set this parameter equal to a Python list with the values of `crypto` and `stock/bond`.\n"
   ]
  },
  {
   "cell_type": "code",
   "execution_count": 25,
   "metadata": {},
   "outputs": [
    {
     "data": {
      "text/html": [
       "<div>\n",
       "<style scoped>\n",
       "    .dataframe tbody tr th:only-of-type {\n",
       "        vertical-align: middle;\n",
       "    }\n",
       "\n",
       "    .dataframe tbody tr th {\n",
       "        vertical-align: top;\n",
       "    }\n",
       "\n",
       "    .dataframe thead th {\n",
       "        text-align: right;\n",
       "    }\n",
       "</style>\n",
       "<table border=\"1\" class=\"dataframe\">\n",
       "  <thead>\n",
       "    <tr style=\"text-align: right;\">\n",
       "      <th></th>\n",
       "      <th>amount</th>\n",
       "    </tr>\n",
       "  </thead>\n",
       "  <tbody>\n",
       "    <tr>\n",
       "      <th>crypto</th>\n",
       "      <td>34064.003</td>\n",
       "    </tr>\n",
       "    <tr>\n",
       "      <th>stock/bond</th>\n",
       "      <td>60688.700</td>\n",
       "    </tr>\n",
       "  </tbody>\n",
       "</table>\n",
       "</div>"
      ],
      "text/plain": [
       "               amount\n",
       "crypto      34064.003\n",
       "stock/bond  60688.700"
      ]
     },
     "execution_count": 25,
     "metadata": {},
     "output_type": "execute_result"
    }
   ],
   "source": [
    "# Create a Pandas DataFrame called savings_df \n",
    "savings_df = pd.DataFrame(data=savings_data, columns=['amount'], index=['crypto','stock/bond'])\n",
    "\n",
    "# Display the savings_df DataFrame\n",
    "savings_df\n"
   ]
  },
  {
   "cell_type": "markdown",
   "metadata": {},
   "source": [
    "#### Step 3: Use the `savings_df` DataFrame to plot a pie chart that visualizes the composition of the member’s portfolio. The y-axis of the pie chart uses `amount`. Be sure to add a title."
   ]
  },
  {
   "cell_type": "code",
   "execution_count": 26,
   "metadata": {},
   "outputs": [
    {
     "data": {
      "text/plain": [
       "<matplotlib.axes._subplots.AxesSubplot at 0x7fb630c9b6d0>"
      ]
     },
     "execution_count": 26,
     "metadata": {},
     "output_type": "execute_result"
    },
    {
     "data": {
      "image/png": "[encoded data removed]",
      "text/plain": [
       "<Figure size 640x480 with 1 Axes>"
      ]
     },
     "metadata": {},
     "output_type": "display_data"
    }
   ],
   "source": [
    "# Plot the total value of the member's portfolio (crypto and stock/bond) in a pie chart\n",
    "savings_df.plot(kind='pie', y='amount', title=\"Composition of Member's Portfolio\")\n"
   ]
  },
  {
   "cell_type": "markdown",
   "metadata": {},
   "source": [
    "#### Step 4: Using Python, determine if the current portfolio has enough to create an emergency fund as part of the member’s financial plan. Ideally, an emergency fund should equal to three times the member’s monthly income. To do this, implement the following steps:\n",
    "\n",
    "Step 1. Create a variable named `emergency_fund_value`, and set it equal to three times the value of the member’s `monthly_income` of 12000. (You set this earlier in Part 1).\n",
    "\n",
    "Step 2. Create a series of three if statements to determine if the member’s total portfolio is large enough to fund the emergency portfolio:\n",
    "\n",
    "* If the total portfolio value is greater than the emergency fund value, display a message congratulating the member for having enough money in this fund.\n",
    "\n",
    "* Else if the total portfolio value is equal to the emergency fund value, display a message congratulating the member on reaching this important financial goal.\n",
    "\n",
    "* Else the total portfolio is less than the emergency fund value, so display a message showing how many dollars away the member is from reaching the goal. (Subtract the total portfolio value from the emergency fund value.)\n"
   ]
  },
  {
   "cell_type": "markdown",
   "metadata": {},
   "source": [
    "##### Step 4-1: Create a variable named `emergency_fund_value`, and set it equal to three times the value of the member’s `monthly_income` of 12000. (You set this earlier in Part 1)."
   ]
  },
  {
   "cell_type": "code",
   "execution_count": 27,
   "metadata": {},
   "outputs": [
    {
     "data": {
      "text/plain": [
       "36000"
      ]
     },
     "execution_count": 27,
     "metadata": {},
     "output_type": "execute_result"
    }
   ],
   "source": [
    "# Create a variable named emergency_fund_value\n",
    "emergency_fund_value = 3 * monthly_income\n",
    "emergency_fund_value"
   ]
  },
  {
   "cell_type": "markdown",
   "metadata": {},
   "source": [
    "##### Step 4-2: Create a series of three if statements to determine if the member’s total portfolio is large enough to fund the emergency portfolio:\n",
    "\n",
    "* If the total portfolio value is greater than the emergency fund value, display a message congratulating the member for having enough money in this fund.\n",
    "\n",
    "* Else if the total portfolio value is equal to the emergency fund value, display a message congratulating the member on reaching this important financial goal.\n",
    "\n",
    "* Else the total portfolio is less than the emergency fund value, so display a message showing how many dollars away the member is from reaching the goal. (Subtract the total portfolio value from the emergency fund value.)"
   ]
  },
  {
   "cell_type": "code",
   "execution_count": 28,
   "metadata": {},
   "outputs": [
    {
     "name": "stdout",
     "output_type": "stream",
     "text": [
      "Congratulations, you have enough money for you emergency fund.\n"
     ]
    }
   ],
   "source": [
    "# Evaluate the possibility of creating an emergency fund with 3 conditions:\n",
    "if total_portfolio > emergency_fund_value:\n",
    "    print(\"Congratulations, you have enough money for you emergency fund.\")\n",
    "elif total_portfolio == emergency_fund_value:\n",
    "    print(\"Congratulations, you have reached an import financial goal for your emergency fund.\")\n",
    "else:\n",
    "    \"You are ${} away from reaching your emergency fund goal.\".format(emergency_fund_value - total_portfolio)\n"
   ]
  },
  {
   "cell_type": "markdown",
   "metadata": {},
   "source": [
    "## Part 2: Create a Financial Planner for Retirement"
   ]
  },
  {
   "cell_type": "markdown",
   "metadata": {},
   "source": [
    "### Create the Monte Carlo Simulation\n",
    "\n",
    "In this section, you’ll use the MCForecastTools library to create a Monte Carlo simulation for the member’s savings portfolio. To do this, complete the following steps:\n",
    "\n",
    "1. Make an API call via the Alpaca SDK to get 3 years of historical closing prices for a traditional 60/40 portfolio split: 60% stocks (SPY) and 40% bonds (AGG).\n",
    "\n",
    "2. Run a Monte Carlo simulation of 500 samples and 30 years for the 60/40 portfolio, and then plot the results.The following image shows the overlay line plot resulting from a simulation with these characteristics. However, because a random number generator is used to run each live Monte Carlo simulation, your image will differ slightly from this exact image:\n",
    "\n",
    "![A screenshot depicts the resulting plot.](Images/5-4-monte-carlo-line-plot.png)\n",
    "\n",
    "3. Plot the probability distribution of the Monte Carlo simulation. Plot the probability distribution of the Monte Carlo simulation. The following image shows the histogram plot resulting from a simulation with these characteristics. However, because a random number generator is used to run each live Monte Carlo simulation, your image will differ slightly from this exact image:\n",
    "\n",
    "![A screenshot depicts the histogram plot.](Images/5-4-monte-carlo-histogram.png)\n",
    "\n",
    "4. Generate the summary statistics for the Monte Carlo simulation.\n",
    "\n"
   ]
  },
  {
   "cell_type": "markdown",
   "metadata": {},
   "source": [
    "#### Step 1: Make an API call via the Alpaca SDK to get 3 years of historical closing prices for a traditional 60/40 portfolio split: 60% stocks (SPY) and 40% bonds (AGG)."
   ]
  },
  {
   "cell_type": "code",
   "execution_count": 29,
   "metadata": {},
   "outputs": [],
   "source": [
    "# Set start and end dates of 3 years back from your current date\n",
    "# Alternatively, you can use an end date of 2020-08-07 and work 3 years back from that date \n",
    "end_date = pd.Timestamp('2020-08-07', tz=\"America/New_York\").isoformat()\n",
    "start_date = pd.Timestamp('2017-08-07', tz=\"America/New_York\").isoformat()\n",
    "# start_date = pd.Timestamp(date.today() - timedelta(days=2), tz=\"America/New_York\").isoformat()\n",
    "# end_date = pd.Timestamp(date.today() - timedelta(days=2), tz=\"America/New_York\").isoformat()"
   ]
  },
  {
   "cell_type": "code",
   "execution_count": 30,
   "metadata": {},
   "outputs": [
    {
     "name": "stdout",
     "output_type": "stream",
     "text": [
      "                              SPY                                       \\\n",
      "                             open    high     low     close     volume   \n",
      "timestamp                                                                \n",
      "2017-08-07 04:00:00+00:00  247.49  247.87  247.37  247.8400   31995021   \n",
      "2017-08-08 04:00:00+00:00  247.51  248.91  246.83  247.2700   61719353   \n",
      "2017-08-09 04:00:00+00:00  246.47  247.31  246.06  247.2700   62632619   \n",
      "2017-08-10 04:00:00+00:00  246.29  246.44  243.70  243.7599  120418270   \n",
      "2017-08-11 04:00:00+00:00  244.02  244.80  243.75  244.1100   74869947   \n",
      "\n",
      "                                                      AGG                    \\\n",
      "                          trade_count        vwap    open    high       low   \n",
      "timestamp                                                                     \n",
      "2017-08-07 04:00:00+00:00      100111  247.668698  109.69  109.72  109.6066   \n",
      "2017-08-08 04:00:00+00:00      192921  247.739709  109.67  109.69  109.5000   \n",
      "2017-08-09 04:00:00+00:00      223650  246.791421  109.87  109.87  109.6600   \n",
      "2017-08-10 04:00:00+00:00      424321  245.027847  109.70  109.85  109.6700   \n",
      "2017-08-11 04:00:00+00:00      278786  244.222867  109.75  109.94  109.6800   \n",
      "\n",
      "                                                                     \n",
      "                             close   volume trade_count        vwap  \n",
      "timestamp                                                            \n",
      "2017-08-07 04:00:00+00:00  109.685  2359826        7755  109.674876  \n",
      "2017-08-08 04:00:00+00:00  109.580  2570876       12663  109.577636  \n",
      "2017-08-09 04:00:00+00:00  109.670  2308932       11031  109.771749  \n",
      "2017-08-10 04:00:00+00:00  109.800  2004163       12437  109.776611  \n",
      "2017-08-11 04:00:00+00:00  109.870  1913253       10113  109.860974  \n",
      "                                SPY                                    \\\n",
      "                               open    high     low   close    volume   \n",
      "timestamp                                                               \n",
      "2020-08-03 04:00:00+00:00  328.3200  329.62  327.73  328.67  53078112   \n",
      "2020-08-04 04:00:00+00:00  327.8600  330.06  327.86  330.00  41917896   \n",
      "2020-08-05 04:00:00+00:00  331.4700  332.39  331.18  332.03  42870955   \n",
      "2020-08-06 04:00:00+00:00  331.4799  334.46  331.13  334.32  43679448   \n",
      "2020-08-07 04:00:00+00:00  333.2800  334.88  332.30  334.57  57282821   \n",
      "\n",
      "                                                      AGG                    \\\n",
      "                          trade_count        vwap    open    high       low   \n",
      "timestamp                                                                     \n",
      "2020-08-03 04:00:00+00:00      288003  328.658795  119.37  119.40  119.1903   \n",
      "2020-08-04 04:00:00+00:00      250899  329.057592  119.42  119.63  119.4200   \n",
      "2020-08-05 04:00:00+00:00      241416  331.791643  119.39  119.49  119.3100   \n",
      "2020-08-06 04:00:00+00:00      290036  332.939600  119.62  119.73  119.5300   \n",
      "2020-08-07 04:00:00+00:00      350100  333.800372  119.66  119.73  119.3950   \n",
      "\n",
      "                                                                     \n",
      "                            close    volume trade_count        vwap  \n",
      "timestamp                                                            \n",
      "2020-08-03 04:00:00+00:00  119.40  13014535       36359  119.282420  \n",
      "2020-08-04 04:00:00+00:00  119.63  10935154       39113  119.541666  \n",
      "2020-08-05 04:00:00+00:00  119.40  17377874       42313  119.387245  \n",
      "2020-08-06 04:00:00+00:00  119.57   4608710       15938  119.604199  \n",
      "2020-08-07 04:00:00+00:00  119.43   5559066       15246  119.475306  \n"
     ]
    }
   ],
   "source": [
    "# Use the Alpaca get_bars function to make the API call to get the 3 years worth of pricing data\n",
    "# The tickers and timeframe parameters should have been set in Part 1 of this activity \n",
    "# The start and end dates should be updated with the information set above\n",
    "# Remember to add the df property to the end of the call so the response is returned as a DataFrame\n",
    "prices_df = alpaca.get_bars(\n",
    "    tickers,\n",
    "    timeframe,\n",
    "    start=start_date,\n",
    "    end=end_date\n",
    ").df\n",
    "\n",
    "# Reorganize the DataFrame\n",
    "# Separate ticker data\n",
    "SPY = prices_df[prices_df['symbol']=='SPY'].drop('symbol', axis=1)\n",
    "AGG = prices_df[prices_df['symbol']=='AGG'].drop('symbol', axis=1)\n",
    "\n",
    "# Concatenate the ticker DataFrames\n",
    "prices_df = pd.concat([SPY, AGG], axis=1, keys=[\"SPY\", \"AGG\"])\n",
    "\n",
    "\n",
    "# Display both the first and last five rows of the DataFrame\n",
    "print(prices_df.head(5))\n",
    "print(prices_df.tail(5))\n"
   ]
  },
  {
   "cell_type": "markdown",
   "metadata": {},
   "source": [
    "#### Step 2: Run a Monte Carlo simulation of 500 samples and 30 years for the 60/40 portfolio, and then plot the results."
   ]
  },
  {
   "cell_type": "code",
   "execution_count": 31,
   "metadata": {},
   "outputs": [
    {
     "data": {
      "text/html": [
       "<div>\n",
       "<style scoped>\n",
       "    .dataframe tbody tr th:only-of-type {\n",
       "        vertical-align: middle;\n",
       "    }\n",
       "\n",
       "    .dataframe tbody tr th {\n",
       "        vertical-align: top;\n",
       "    }\n",
       "\n",
       "    .dataframe thead tr th {\n",
       "        text-align: left;\n",
       "    }\n",
       "\n",
       "    .dataframe thead tr:last-of-type th {\n",
       "        text-align: right;\n",
       "    }\n",
       "</style>\n",
       "<table border=\"1\" class=\"dataframe\">\n",
       "  <thead>\n",
       "    <tr>\n",
       "      <th></th>\n",
       "      <th colspan=\"8\" halign=\"left\">SPY</th>\n",
       "      <th colspan=\"8\" halign=\"left\">AGG</th>\n",
       "    </tr>\n",
       "    <tr>\n",
       "      <th></th>\n",
       "      <th>open</th>\n",
       "      <th>high</th>\n",
       "      <th>low</th>\n",
       "      <th>close</th>\n",
       "      <th>volume</th>\n",
       "      <th>trade_count</th>\n",
       "      <th>vwap</th>\n",
       "      <th>daily_return</th>\n",
       "      <th>open</th>\n",
       "      <th>high</th>\n",
       "      <th>low</th>\n",
       "      <th>close</th>\n",
       "      <th>volume</th>\n",
       "      <th>trade_count</th>\n",
       "      <th>vwap</th>\n",
       "      <th>daily_return</th>\n",
       "    </tr>\n",
       "    <tr>\n",
       "      <th>timestamp</th>\n",
       "      <th></th>\n",
       "      <th></th>\n",
       "      <th></th>\n",
       "      <th></th>\n",
       "      <th></th>\n",
       "      <th></th>\n",
       "      <th></th>\n",
       "      <th></th>\n",
       "      <th></th>\n",
       "      <th></th>\n",
       "      <th></th>\n",
       "      <th></th>\n",
       "      <th></th>\n",
       "      <th></th>\n",
       "      <th></th>\n",
       "      <th></th>\n",
       "    </tr>\n",
       "  </thead>\n",
       "  <tbody>\n",
       "    <tr>\n",
       "      <th>2017-08-07 04:00:00+00:00</th>\n",
       "      <td>247.49</td>\n",
       "      <td>247.87</td>\n",
       "      <td>247.37</td>\n",
       "      <td>247.8400</td>\n",
       "      <td>31995021</td>\n",
       "      <td>100111</td>\n",
       "      <td>247.668698</td>\n",
       "      <td>NaN</td>\n",
       "      <td>109.69</td>\n",
       "      <td>109.72</td>\n",
       "      <td>109.6066</td>\n",
       "      <td>109.685</td>\n",
       "      <td>2359826</td>\n",
       "      <td>7755</td>\n",
       "      <td>109.674876</td>\n",
       "      <td>NaN</td>\n",
       "    </tr>\n",
       "    <tr>\n",
       "      <th>2017-08-08 04:00:00+00:00</th>\n",
       "      <td>247.51</td>\n",
       "      <td>248.91</td>\n",
       "      <td>246.83</td>\n",
       "      <td>247.2700</td>\n",
       "      <td>61719353</td>\n",
       "      <td>192921</td>\n",
       "      <td>247.739709</td>\n",
       "      <td>-0.002300</td>\n",
       "      <td>109.67</td>\n",
       "      <td>109.69</td>\n",
       "      <td>109.5000</td>\n",
       "      <td>109.580</td>\n",
       "      <td>2570876</td>\n",
       "      <td>12663</td>\n",
       "      <td>109.577636</td>\n",
       "      <td>-0.000957</td>\n",
       "    </tr>\n",
       "    <tr>\n",
       "      <th>2017-08-09 04:00:00+00:00</th>\n",
       "      <td>246.47</td>\n",
       "      <td>247.31</td>\n",
       "      <td>246.06</td>\n",
       "      <td>247.2700</td>\n",
       "      <td>62632619</td>\n",
       "      <td>223650</td>\n",
       "      <td>246.791421</td>\n",
       "      <td>0.000000</td>\n",
       "      <td>109.87</td>\n",
       "      <td>109.87</td>\n",
       "      <td>109.6600</td>\n",
       "      <td>109.670</td>\n",
       "      <td>2308932</td>\n",
       "      <td>11031</td>\n",
       "      <td>109.771749</td>\n",
       "      <td>0.000821</td>\n",
       "    </tr>\n",
       "    <tr>\n",
       "      <th>2017-08-10 04:00:00+00:00</th>\n",
       "      <td>246.29</td>\n",
       "      <td>246.44</td>\n",
       "      <td>243.70</td>\n",
       "      <td>243.7599</td>\n",
       "      <td>120418270</td>\n",
       "      <td>424321</td>\n",
       "      <td>245.027847</td>\n",
       "      <td>-0.014195</td>\n",
       "      <td>109.70</td>\n",
       "      <td>109.85</td>\n",
       "      <td>109.6700</td>\n",
       "      <td>109.800</td>\n",
       "      <td>2004163</td>\n",
       "      <td>12437</td>\n",
       "      <td>109.776611</td>\n",
       "      <td>0.001185</td>\n",
       "    </tr>\n",
       "    <tr>\n",
       "      <th>2017-08-11 04:00:00+00:00</th>\n",
       "      <td>244.02</td>\n",
       "      <td>244.80</td>\n",
       "      <td>243.75</td>\n",
       "      <td>244.1100</td>\n",
       "      <td>74869947</td>\n",
       "      <td>278786</td>\n",
       "      <td>244.222867</td>\n",
       "      <td>0.001436</td>\n",
       "      <td>109.75</td>\n",
       "      <td>109.94</td>\n",
       "      <td>109.6800</td>\n",
       "      <td>109.870</td>\n",
       "      <td>1913253</td>\n",
       "      <td>10113</td>\n",
       "      <td>109.860974</td>\n",
       "      <td>0.000638</td>\n",
       "    </tr>\n",
       "  </tbody>\n",
       "</table>\n",
       "</div>"
      ],
      "text/plain": [
       "                              SPY                                       \\\n",
       "                             open    high     low     close     volume   \n",
       "timestamp                                                                \n",
       "2017-08-07 04:00:00+00:00  247.49  247.87  247.37  247.8400   31995021   \n",
       "2017-08-08 04:00:00+00:00  247.51  248.91  246.83  247.2700   61719353   \n",
       "2017-08-09 04:00:00+00:00  246.47  247.31  246.06  247.2700   62632619   \n",
       "2017-08-10 04:00:00+00:00  246.29  246.44  243.70  243.7599  120418270   \n",
       "2017-08-11 04:00:00+00:00  244.02  244.80  243.75  244.1100   74869947   \n",
       "\n",
       "                                                                   AGG  \\\n",
       "                          trade_count        vwap daily_return    open   \n",
       "timestamp                                                                \n",
       "2017-08-07 04:00:00+00:00      100111  247.668698          NaN  109.69   \n",
       "2017-08-08 04:00:00+00:00      192921  247.739709    -0.002300  109.67   \n",
       "2017-08-09 04:00:00+00:00      223650  246.791421     0.000000  109.87   \n",
       "2017-08-10 04:00:00+00:00      424321  245.027847    -0.014195  109.70   \n",
       "2017-08-11 04:00:00+00:00      278786  244.222867     0.001436  109.75   \n",
       "\n",
       "                                                                           \\\n",
       "                             high       low    close   volume trade_count   \n",
       "timestamp                                                                   \n",
       "2017-08-07 04:00:00+00:00  109.72  109.6066  109.685  2359826        7755   \n",
       "2017-08-08 04:00:00+00:00  109.69  109.5000  109.580  2570876       12663   \n",
       "2017-08-09 04:00:00+00:00  109.87  109.6600  109.670  2308932       11031   \n",
       "2017-08-10 04:00:00+00:00  109.85  109.6700  109.800  2004163       12437   \n",
       "2017-08-11 04:00:00+00:00  109.94  109.6800  109.870  1913253       10113   \n",
       "\n",
       "                                                    \n",
       "                                 vwap daily_return  \n",
       "timestamp                                           \n",
       "2017-08-07 04:00:00+00:00  109.674876          NaN  \n",
       "2017-08-08 04:00:00+00:00  109.577636    -0.000957  \n",
       "2017-08-09 04:00:00+00:00  109.771749     0.000821  \n",
       "2017-08-10 04:00:00+00:00  109.776611     0.001185  \n",
       "2017-08-11 04:00:00+00:00  109.860974     0.000638  "
      ]
     },
     "execution_count": 31,
     "metadata": {},
     "output_type": "execute_result"
    }
   ],
   "source": [
    "# Configure the Monte Carlo simulation to forecast 30 years cumulative returns\n",
    "# The weights should be split 40% to AGG and 60% to SPY.\n",
    "# Run 500 samples.\n",
    "MC_30year = MCSimulation(\n",
    "    portfolio_data = prices_df,\n",
    "    weights = [.60,.40],\n",
    "    num_simulation = 500,\n",
    "    num_trading_days = 252*30\n",
    ")\n",
    "\n",
    "# Review the simulation input data\n",
    "MC_30year.portfolio_data.head()\n"
   ]
  },
  {
   "cell_type": "code",
   "execution_count": 32,
   "metadata": {},
   "outputs": [
    {
     "name": "stdout",
     "output_type": "stream",
     "text": [
      "Running Monte Carlo simulation number 0.\n",
      "Running Monte Carlo simulation number 10.\n",
      "Running Monte Carlo simulation number 20.\n",
      "Running Monte Carlo simulation number 30.\n",
      "Running Monte Carlo simulation number 40.\n",
      "Running Monte Carlo simulation number 50.\n",
      "Running Monte Carlo simulation number 60.\n",
      "Running Monte Carlo simulation number 70.\n",
      "Running Monte Carlo simulation number 80.\n",
      "Running Monte Carlo simulation number 90.\n",
      "Running Monte Carlo simulation number 100.\n"
     ]
    },
    {
     "name": "stderr",
     "output_type": "stream",
     "text": [
      "/Users/alphonsologan/Desktop/Bootcamp/financial_planning/MCForecastTools.py:117: PerformanceWarning: DataFrame is highly fragmented.  This is usually the result of calling `frame.insert` many times, which has poor performance.  Consider joining all columns at once using pd.concat(axis=1) instead.  To get a de-fragmented frame, use `newframe = frame.copy()`\n",
      "  portfolio_cumulative_returns[n] = (1 + sim_df.fillna(0)).cumprod()\n"
     ]
    },
    {
     "name": "stdout",
     "output_type": "stream",
     "text": [
      "Running Monte Carlo simulation number 110.\n",
      "Running Monte Carlo simulation number 120.\n",
      "Running Monte Carlo simulation number 130.\n",
      "Running Monte Carlo simulation number 140.\n",
      "Running Monte Carlo simulation number 150.\n",
      "Running Monte Carlo simulation number 160.\n",
      "Running Monte Carlo simulation number 170.\n",
      "Running Monte Carlo simulation number 180.\n",
      "Running Monte Carlo simulation number 190.\n",
      "Running Monte Carlo simulation number 200.\n",
      "Running Monte Carlo simulation number 210.\n",
      "Running Monte Carlo simulation number 220.\n",
      "Running Monte Carlo simulation number 230.\n",
      "Running Monte Carlo simulation number 240.\n",
      "Running Monte Carlo simulation number 250.\n",
      "Running Monte Carlo simulation number 260.\n",
      "Running Monte Carlo simulation number 270.\n",
      "Running Monte Carlo simulation number 280.\n",
      "Running Monte Carlo simulation number 290.\n",
      "Running Monte Carlo simulation number 300.\n",
      "Running Monte Carlo simulation number 310.\n",
      "Running Monte Carlo simulation number 320.\n",
      "Running Monte Carlo simulation number 330.\n",
      "Running Monte Carlo simulation number 340.\n",
      "Running Monte Carlo simulation number 350.\n",
      "Running Monte Carlo simulation number 360.\n",
      "Running Monte Carlo simulation number 370.\n",
      "Running Monte Carlo simulation number 380.\n",
      "Running Monte Carlo simulation number 390.\n",
      "Running Monte Carlo simulation number 400.\n",
      "Running Monte Carlo simulation number 410.\n",
      "Running Monte Carlo simulation number 420.\n",
      "Running Monte Carlo simulation number 430.\n",
      "Running Monte Carlo simulation number 440.\n",
      "Running Monte Carlo simulation number 450.\n",
      "Running Monte Carlo simulation number 460.\n",
      "Running Monte Carlo simulation number 470.\n",
      "Running Monte Carlo simulation number 480.\n",
      "Running Monte Carlo simulation number 490.\n"
     ]
    },
    {
     "data": {
      "text/html": [
       "<div>\n",
       "<style scoped>\n",
       "    .dataframe tbody tr th:only-of-type {\n",
       "        vertical-align: middle;\n",
       "    }\n",
       "\n",
       "    .dataframe tbody tr th {\n",
       "        vertical-align: top;\n",
       "    }\n",
       "\n",
       "    .dataframe thead th {\n",
       "        text-align: right;\n",
       "    }\n",
       "</style>\n",
       "<table border=\"1\" class=\"dataframe\">\n",
       "  <thead>\n",
       "    <tr style=\"text-align: right;\">\n",
       "      <th></th>\n",
       "      <th>0</th>\n",
       "      <th>1</th>\n",
       "      <th>2</th>\n",
       "      <th>3</th>\n",
       "      <th>4</th>\n",
       "      <th>5</th>\n",
       "      <th>6</th>\n",
       "      <th>7</th>\n",
       "      <th>8</th>\n",
       "      <th>9</th>\n",
       "      <th>...</th>\n",
       "      <th>490</th>\n",
       "      <th>491</th>\n",
       "      <th>492</th>\n",
       "      <th>493</th>\n",
       "      <th>494</th>\n",
       "      <th>495</th>\n",
       "      <th>496</th>\n",
       "      <th>497</th>\n",
       "      <th>498</th>\n",
       "      <th>499</th>\n",
       "    </tr>\n",
       "  </thead>\n",
       "  <tbody>\n",
       "    <tr>\n",
       "      <th>0</th>\n",
       "      <td>1.000000</td>\n",
       "      <td>1.000000</td>\n",
       "      <td>1.000000</td>\n",
       "      <td>1.000000</td>\n",
       "      <td>1.000000</td>\n",
       "      <td>1.000000</td>\n",
       "      <td>1.000000</td>\n",
       "      <td>1.000000</td>\n",
       "      <td>1.000000</td>\n",
       "      <td>1.000000</td>\n",
       "      <td>...</td>\n",
       "      <td>1.000000</td>\n",
       "      <td>1.000000</td>\n",
       "      <td>1.000000</td>\n",
       "      <td>1.000000</td>\n",
       "      <td>1.000000</td>\n",
       "      <td>1.000000</td>\n",
       "      <td>1.000000</td>\n",
       "      <td>1.000000</td>\n",
       "      <td>1.000000</td>\n",
       "      <td>1.000000</td>\n",
       "    </tr>\n",
       "    <tr>\n",
       "      <th>1</th>\n",
       "      <td>0.990444</td>\n",
       "      <td>1.002426</td>\n",
       "      <td>1.000205</td>\n",
       "      <td>1.013418</td>\n",
       "      <td>1.003335</td>\n",
       "      <td>1.004362</td>\n",
       "      <td>0.988479</td>\n",
       "      <td>0.987618</td>\n",
       "      <td>0.992619</td>\n",
       "      <td>0.993612</td>\n",
       "      <td>...</td>\n",
       "      <td>0.986369</td>\n",
       "      <td>0.994166</td>\n",
       "      <td>1.005863</td>\n",
       "      <td>0.998541</td>\n",
       "      <td>0.985611</td>\n",
       "      <td>1.000470</td>\n",
       "      <td>0.990846</td>\n",
       "      <td>0.994165</td>\n",
       "      <td>1.010390</td>\n",
       "      <td>0.997284</td>\n",
       "    </tr>\n",
       "    <tr>\n",
       "      <th>2</th>\n",
       "      <td>0.974043</td>\n",
       "      <td>0.995787</td>\n",
       "      <td>1.009007</td>\n",
       "      <td>1.021874</td>\n",
       "      <td>1.009631</td>\n",
       "      <td>1.002124</td>\n",
       "      <td>0.991974</td>\n",
       "      <td>0.978849</td>\n",
       "      <td>0.991510</td>\n",
       "      <td>1.008487</td>\n",
       "      <td>...</td>\n",
       "      <td>0.997566</td>\n",
       "      <td>0.990032</td>\n",
       "      <td>1.004323</td>\n",
       "      <td>0.999497</td>\n",
       "      <td>0.987766</td>\n",
       "      <td>0.998227</td>\n",
       "      <td>1.005528</td>\n",
       "      <td>0.985773</td>\n",
       "      <td>1.009055</td>\n",
       "      <td>0.980087</td>\n",
       "    </tr>\n",
       "    <tr>\n",
       "      <th>3</th>\n",
       "      <td>0.972909</td>\n",
       "      <td>0.993043</td>\n",
       "      <td>1.012884</td>\n",
       "      <td>1.025954</td>\n",
       "      <td>1.018019</td>\n",
       "      <td>1.009559</td>\n",
       "      <td>1.000295</td>\n",
       "      <td>0.989644</td>\n",
       "      <td>0.985196</td>\n",
       "      <td>1.016812</td>\n",
       "      <td>...</td>\n",
       "      <td>0.993440</td>\n",
       "      <td>1.001022</td>\n",
       "      <td>1.002520</td>\n",
       "      <td>0.993141</td>\n",
       "      <td>0.996615</td>\n",
       "      <td>0.997285</td>\n",
       "      <td>1.015780</td>\n",
       "      <td>0.987105</td>\n",
       "      <td>1.011872</td>\n",
       "      <td>0.979328</td>\n",
       "    </tr>\n",
       "    <tr>\n",
       "      <th>4</th>\n",
       "      <td>0.971457</td>\n",
       "      <td>0.999041</td>\n",
       "      <td>1.007396</td>\n",
       "      <td>1.019560</td>\n",
       "      <td>0.999356</td>\n",
       "      <td>1.010703</td>\n",
       "      <td>1.003478</td>\n",
       "      <td>0.974267</td>\n",
       "      <td>0.964687</td>\n",
       "      <td>1.019396</td>\n",
       "      <td>...</td>\n",
       "      <td>0.991993</td>\n",
       "      <td>1.003413</td>\n",
       "      <td>1.009235</td>\n",
       "      <td>0.994830</td>\n",
       "      <td>1.006596</td>\n",
       "      <td>0.991575</td>\n",
       "      <td>1.018609</td>\n",
       "      <td>0.981994</td>\n",
       "      <td>1.011600</td>\n",
       "      <td>0.990303</td>\n",
       "    </tr>\n",
       "    <tr>\n",
       "      <th>...</th>\n",
       "      <td>...</td>\n",
       "      <td>...</td>\n",
       "      <td>...</td>\n",
       "      <td>...</td>\n",
       "      <td>...</td>\n",
       "      <td>...</td>\n",
       "      <td>...</td>\n",
       "      <td>...</td>\n",
       "      <td>...</td>\n",
       "      <td>...</td>\n",
       "      <td>...</td>\n",
       "      <td>...</td>\n",
       "      <td>...</td>\n",
       "      <td>...</td>\n",
       "      <td>...</td>\n",
       "      <td>...</td>\n",
       "      <td>...</td>\n",
       "      <td>...</td>\n",
       "      <td>...</td>\n",
       "      <td>...</td>\n",
       "      <td>...</td>\n",
       "    </tr>\n",
       "    <tr>\n",
       "      <th>7556</th>\n",
       "      <td>4.541267</td>\n",
       "      <td>11.203546</td>\n",
       "      <td>4.207527</td>\n",
       "      <td>16.299501</td>\n",
       "      <td>9.216329</td>\n",
       "      <td>5.750913</td>\n",
       "      <td>10.747176</td>\n",
       "      <td>7.392451</td>\n",
       "      <td>3.638008</td>\n",
       "      <td>6.552117</td>\n",
       "      <td>...</td>\n",
       "      <td>22.631370</td>\n",
       "      <td>15.196259</td>\n",
       "      <td>69.870493</td>\n",
       "      <td>10.098141</td>\n",
       "      <td>3.559358</td>\n",
       "      <td>3.428283</td>\n",
       "      <td>3.301435</td>\n",
       "      <td>7.550635</td>\n",
       "      <td>4.611968</td>\n",
       "      <td>4.857473</td>\n",
       "    </tr>\n",
       "    <tr>\n",
       "      <th>7557</th>\n",
       "      <td>4.581049</td>\n",
       "      <td>11.123303</td>\n",
       "      <td>4.171126</td>\n",
       "      <td>16.451072</td>\n",
       "      <td>9.263480</td>\n",
       "      <td>5.667295</td>\n",
       "      <td>10.788186</td>\n",
       "      <td>7.287445</td>\n",
       "      <td>3.651104</td>\n",
       "      <td>6.658275</td>\n",
       "      <td>...</td>\n",
       "      <td>22.576172</td>\n",
       "      <td>15.131971</td>\n",
       "      <td>69.926756</td>\n",
       "      <td>9.917693</td>\n",
       "      <td>3.608487</td>\n",
       "      <td>3.368364</td>\n",
       "      <td>3.358886</td>\n",
       "      <td>7.458320</td>\n",
       "      <td>4.666753</td>\n",
       "      <td>4.872871</td>\n",
       "    </tr>\n",
       "    <tr>\n",
       "      <th>7558</th>\n",
       "      <td>4.521190</td>\n",
       "      <td>11.282108</td>\n",
       "      <td>4.183669</td>\n",
       "      <td>16.285011</td>\n",
       "      <td>9.348479</td>\n",
       "      <td>5.685067</td>\n",
       "      <td>10.823349</td>\n",
       "      <td>7.220420</td>\n",
       "      <td>3.697997</td>\n",
       "      <td>6.665046</td>\n",
       "      <td>...</td>\n",
       "      <td>22.906245</td>\n",
       "      <td>15.236820</td>\n",
       "      <td>69.905420</td>\n",
       "      <td>9.986257</td>\n",
       "      <td>3.627369</td>\n",
       "      <td>3.363795</td>\n",
       "      <td>3.373533</td>\n",
       "      <td>7.599676</td>\n",
       "      <td>4.758095</td>\n",
       "      <td>4.888642</td>\n",
       "    </tr>\n",
       "    <tr>\n",
       "      <th>7559</th>\n",
       "      <td>4.563245</td>\n",
       "      <td>11.195085</td>\n",
       "      <td>4.188327</td>\n",
       "      <td>16.422174</td>\n",
       "      <td>9.432140</td>\n",
       "      <td>5.650256</td>\n",
       "      <td>10.815162</td>\n",
       "      <td>7.128751</td>\n",
       "      <td>3.683742</td>\n",
       "      <td>6.714603</td>\n",
       "      <td>...</td>\n",
       "      <td>22.642174</td>\n",
       "      <td>15.129935</td>\n",
       "      <td>69.096798</td>\n",
       "      <td>10.010611</td>\n",
       "      <td>3.642074</td>\n",
       "      <td>3.355826</td>\n",
       "      <td>3.379095</td>\n",
       "      <td>7.584270</td>\n",
       "      <td>4.703898</td>\n",
       "      <td>4.890319</td>\n",
       "    </tr>\n",
       "    <tr>\n",
       "      <th>7560</th>\n",
       "      <td>4.531999</td>\n",
       "      <td>11.266575</td>\n",
       "      <td>4.209461</td>\n",
       "      <td>16.584654</td>\n",
       "      <td>9.498365</td>\n",
       "      <td>5.573018</td>\n",
       "      <td>10.753463</td>\n",
       "      <td>7.052605</td>\n",
       "      <td>3.710261</td>\n",
       "      <td>6.770957</td>\n",
       "      <td>...</td>\n",
       "      <td>22.675326</td>\n",
       "      <td>15.111279</td>\n",
       "      <td>68.849938</td>\n",
       "      <td>9.992622</td>\n",
       "      <td>3.614347</td>\n",
       "      <td>3.372823</td>\n",
       "      <td>3.370918</td>\n",
       "      <td>7.619916</td>\n",
       "      <td>4.687914</td>\n",
       "      <td>4.847414</td>\n",
       "    </tr>\n",
       "  </tbody>\n",
       "</table>\n",
       "<p>7561 rows × 500 columns</p>\n",
       "</div>"
      ],
      "text/plain": [
       "           0          1         2          3         4         5          6    \\\n",
       "0     1.000000   1.000000  1.000000   1.000000  1.000000  1.000000   1.000000   \n",
       "1     0.990444   1.002426  1.000205   1.013418  1.003335  1.004362   0.988479   \n",
       "2     0.974043   0.995787  1.009007   1.021874  1.009631  1.002124   0.991974   \n",
       "3     0.972909   0.993043  1.012884   1.025954  1.018019  1.009559   1.000295   \n",
       "4     0.971457   0.999041  1.007396   1.019560  0.999356  1.010703   1.003478   \n",
       "...        ...        ...       ...        ...       ...       ...        ...   \n",
       "7556  4.541267  11.203546  4.207527  16.299501  9.216329  5.750913  10.747176   \n",
       "7557  4.581049  11.123303  4.171126  16.451072  9.263480  5.667295  10.788186   \n",
       "7558  4.521190  11.282108  4.183669  16.285011  9.348479  5.685067  10.823349   \n",
       "7559  4.563245  11.195085  4.188327  16.422174  9.432140  5.650256  10.815162   \n",
       "7560  4.531999  11.266575  4.209461  16.584654  9.498365  5.573018  10.753463   \n",
       "\n",
       "           7         8         9    ...        490        491        492  \\\n",
       "0     1.000000  1.000000  1.000000  ...   1.000000   1.000000   1.000000   \n",
       "1     0.987618  0.992619  0.993612  ...   0.986369   0.994166   1.005863   \n",
       "2     0.978849  0.991510  1.008487  ...   0.997566   0.990032   1.004323   \n",
       "3     0.989644  0.985196  1.016812  ...   0.993440   1.001022   1.002520   \n",
       "4     0.974267  0.964687  1.019396  ...   0.991993   1.003413   1.009235   \n",
       "...        ...       ...       ...  ...        ...        ...        ...   \n",
       "7556  7.392451  3.638008  6.552117  ...  22.631370  15.196259  69.870493   \n",
       "7557  7.287445  3.651104  6.658275  ...  22.576172  15.131971  69.926756   \n",
       "7558  7.220420  3.697997  6.665046  ...  22.906245  15.236820  69.905420   \n",
       "7559  7.128751  3.683742  6.714603  ...  22.642174  15.129935  69.096798   \n",
       "7560  7.052605  3.710261  6.770957  ...  22.675326  15.111279  68.849938   \n",
       "\n",
       "            493       494       495       496       497       498       499  \n",
       "0      1.000000  1.000000  1.000000  1.000000  1.000000  1.000000  1.000000  \n",
       "1      0.998541  0.985611  1.000470  0.990846  0.994165  1.010390  0.997284  \n",
       "2      0.999497  0.987766  0.998227  1.005528  0.985773  1.009055  0.980087  \n",
       "3      0.993141  0.996615  0.997285  1.015780  0.987105  1.011872  0.979328  \n",
       "4      0.994830  1.006596  0.991575  1.018609  0.981994  1.011600  0.990303  \n",
       "...         ...       ...       ...       ...       ...       ...       ...  \n",
       "7556  10.098141  3.559358  3.428283  3.301435  7.550635  4.611968  4.857473  \n",
       "7557   9.917693  3.608487  3.368364  3.358886  7.458320  4.666753  4.872871  \n",
       "7558   9.986257  3.627369  3.363795  3.373533  7.599676  4.758095  4.888642  \n",
       "7559  10.010611  3.642074  3.355826  3.379095  7.584270  4.703898  4.890319  \n",
       "7560   9.992622  3.614347  3.372823  3.370918  7.619916  4.687914  4.847414  \n",
       "\n",
       "[7561 rows x 500 columns]"
      ]
     },
     "execution_count": 32,
     "metadata": {},
     "output_type": "execute_result"
    }
   ],
   "source": [
    "# Run the Monte Carlo simulation to forecast 30 years cumulative returns\n",
    "MC_30year.calc_cumulative_return()\n"
   ]
  },
  {
   "cell_type": "code",
   "execution_count": 33,
   "metadata": {},
   "outputs": [
    {
     "data": {
      "image/png": "[encoded data removed]",
      "text/plain": [
       "<Figure size 640x480 with 1 Axes>"
      ]
     },
     "metadata": {},
     "output_type": "display_data"
    }
   ],
   "source": [
    "# Visualize the 30-year Monte Carlo simulation by creating an\n",
    "# overlay line plot\n",
    "MC_sim_line_plot = MC_30year.plot_simulation()\n",
    "MC_sim_line_plot.get_figure().savefig(\"MC_30year_sim_plot.png\", bbox_inches=\"tight\")\n"
   ]
  },
  {
   "cell_type": "markdown",
   "metadata": {},
   "source": [
    "#### Step 3: Plot the probability distribution of the Monte Carlo simulation."
   ]
  },
  {
   "cell_type": "code",
   "execution_count": 34,
   "metadata": {},
   "outputs": [
    {
     "data": {
      "image/png": "[encoded data removed]",
      "text/plain": [
       "<Figure size 640x480 with 1 Axes>"
      ]
     },
     "metadata": {},
     "output_type": "display_data"
    }
   ],
   "source": [
    "# Visualize the probability distribution of the 30-year Monte Carlo simulation \n",
    "# by plotting a histogram\n",
    "MC_sim_dist_plot = MC_30year.plot_distribution()\n",
    "MC_sim_dist_plot.get_figure().savefig('MC_30year_dist_plot.png',bbox_inches='tight')"
   ]
  },
  {
   "cell_type": "markdown",
   "metadata": {},
   "source": [
    "#### Step 4: Generate the summary statistics for the Monte Carlo simulation."
   ]
  },
  {
   "cell_type": "code",
   "execution_count": 35,
   "metadata": {},
   "outputs": [
    {
     "name": "stdout",
     "output_type": "stream",
     "text": [
      "count           500.000000\n",
      "mean             12.952204\n",
      "std              11.395882\n",
      "min               0.729075\n",
      "25%               5.973687\n",
      "50%               9.869686\n",
      "75%              15.407473\n",
      "max             115.429033\n",
      "95% CI Lower      2.556986\n",
      "95% CI Upper     46.944069\n",
      "Name: 7560, dtype: float64\n"
     ]
    }
   ],
   "source": [
    "# Generate summary statistics from the 30-year Monte Carlo simulation results\n",
    "# Save the results as a variable\n",
    "MC_summary_statistics = MC_30year.summarize_cumulative_return()\n",
    "\n",
    "\n",
    "# Review the 30-year Monte Carlo summary statistics\n",
    "print(MC_summary_statistics)"
   ]
  },
  {
   "cell_type": "markdown",
   "metadata": {},
   "source": [
    "### Analyze the Retirement Portfolio Forecasts\n",
    "\n",
    "Using the current value of only the stock and bond portion of the member's portfolio and the summary statistics that you generated from the Monte Carlo simulation, answer the following question in your Jupyter notebook:\n",
    "\n",
    "-  What are the lower and upper bounds for the expected value of the portfolio with a 95% confidence interval?\n"
   ]
  },
  {
   "cell_type": "code",
   "execution_count": 39,
   "metadata": {},
   "outputs": [
    {
     "name": "stdout",
     "output_type": "stream",
     "text": [
      "60688.7\n"
     ]
    }
   ],
   "source": [
    "# Print the current balance of the stock and bond portion of the members portfolio\n",
    "print(total_stocks_bonds)"
   ]
  },
  {
   "cell_type": "code",
   "execution_count": 41,
   "metadata": {},
   "outputs": [
    {
     "name": "stdout",
     "output_type": "stream",
     "text": [
      "There is a 95% chance that an initial investment of $60688.7 in the portfolio over the next 30 years will end within in the range of $ 155180.14 and $ 2848974.54.\n"
     ]
    }
   ],
   "source": [
    "# Use the lower and upper `95%` confidence intervals to calculate the range of the possible outcomes for the current stock/bond portfolio\n",
    "ci_lower_thirty_cumulative_return = MC_summary_statistics[8] * total_stocks_bonds\n",
    "ci_upper_thirty_cumulative_return = MC_summary_statistics[9] * total_stocks_bonds\n",
    "\n",
    "# Print the result of your calculations\n",
    "print(f\"There is a 95% chance that an initial investment of ${total_stocks_bonds} in the portfolio\"\n",
    "    f\" over the next 30 years will end within in the range of\"\n",
    "    f\" ${ci_lower_thirty_cumulative_return: .2f} and ${ci_upper_thirty_cumulative_return: .2f}.\")\n"
   ]
  },
  {
   "cell_type": "markdown",
   "metadata": {},
   "source": [
    "### Forecast Cumulative Returns in 10 Years\n",
    "\n",
    "The CTO of the credit union is impressed with your work on these planning tools but wonders if 30 years is a long time to wait until retirement. So, your next task is to adjust the retirement portfolio and run a new Monte Carlo simulation to find out if the changes will allow members to retire earlier.\n",
    "\n",
    "For this new Monte Carlo simulation, do the following: \n",
    "\n",
    "- Forecast the cumulative returns for 10 years from now. Because of the shortened investment horizon (30 years to 10 years), the portfolio needs to invest more heavily in the riskier asset&mdash;that is, stock&mdash;to help accumulate wealth for retirement. \n",
    "\n",
    "- Adjust the weights of the retirement portfolio so that the composition for the Monte Carlo simulation consists of 20% bonds and 80% stocks. \n",
    "\n",
    "- Run the simulation over 500 samples, and use the same data that the API call to Alpaca generated.\n",
    "\n",
    "- Based on the new Monte Carlo simulation, answer the following questions in your Jupyter notebook:\n",
    "\n",
    "    - Using the current value of only the stock and bond portion of the member's portfolio and the summary statistics that you generated from the new Monte Carlo simulation, what are the lower and upper bounds for the expected value of the portfolio (with the new weights) with a 95% confidence interval?\n",
    "\n",
    "    - Will weighting the portfolio more heavily toward stocks allow the credit union members to retire after only 10 years?\n"
   ]
  },
  {
   "cell_type": "code",
   "execution_count": 42,
   "metadata": {},
   "outputs": [
    {
     "data": {
      "text/html": [
       "<div>\n",
       "<style scoped>\n",
       "    .dataframe tbody tr th:only-of-type {\n",
       "        vertical-align: middle;\n",
       "    }\n",
       "\n",
       "    .dataframe tbody tr th {\n",
       "        vertical-align: top;\n",
       "    }\n",
       "\n",
       "    .dataframe thead tr th {\n",
       "        text-align: left;\n",
       "    }\n",
       "\n",
       "    .dataframe thead tr:last-of-type th {\n",
       "        text-align: right;\n",
       "    }\n",
       "</style>\n",
       "<table border=\"1\" class=\"dataframe\">\n",
       "  <thead>\n",
       "    <tr>\n",
       "      <th></th>\n",
       "      <th colspan=\"8\" halign=\"left\">SPY</th>\n",
       "      <th colspan=\"8\" halign=\"left\">AGG</th>\n",
       "    </tr>\n",
       "    <tr>\n",
       "      <th></th>\n",
       "      <th>open</th>\n",
       "      <th>high</th>\n",
       "      <th>low</th>\n",
       "      <th>close</th>\n",
       "      <th>volume</th>\n",
       "      <th>trade_count</th>\n",
       "      <th>vwap</th>\n",
       "      <th>daily_return</th>\n",
       "      <th>open</th>\n",
       "      <th>high</th>\n",
       "      <th>low</th>\n",
       "      <th>close</th>\n",
       "      <th>volume</th>\n",
       "      <th>trade_count</th>\n",
       "      <th>vwap</th>\n",
       "      <th>daily_return</th>\n",
       "    </tr>\n",
       "    <tr>\n",
       "      <th>timestamp</th>\n",
       "      <th></th>\n",
       "      <th></th>\n",
       "      <th></th>\n",
       "      <th></th>\n",
       "      <th></th>\n",
       "      <th></th>\n",
       "      <th></th>\n",
       "      <th></th>\n",
       "      <th></th>\n",
       "      <th></th>\n",
       "      <th></th>\n",
       "      <th></th>\n",
       "      <th></th>\n",
       "      <th></th>\n",
       "      <th></th>\n",
       "      <th></th>\n",
       "    </tr>\n",
       "  </thead>\n",
       "  <tbody>\n",
       "    <tr>\n",
       "      <th>2017-08-07 04:00:00+00:00</th>\n",
       "      <td>247.49</td>\n",
       "      <td>247.87</td>\n",
       "      <td>247.37</td>\n",
       "      <td>247.8400</td>\n",
       "      <td>31995021</td>\n",
       "      <td>100111</td>\n",
       "      <td>247.668698</td>\n",
       "      <td>NaN</td>\n",
       "      <td>109.69</td>\n",
       "      <td>109.72</td>\n",
       "      <td>109.6066</td>\n",
       "      <td>109.685</td>\n",
       "      <td>2359826</td>\n",
       "      <td>7755</td>\n",
       "      <td>109.674876</td>\n",
       "      <td>NaN</td>\n",
       "    </tr>\n",
       "    <tr>\n",
       "      <th>2017-08-08 04:00:00+00:00</th>\n",
       "      <td>247.51</td>\n",
       "      <td>248.91</td>\n",
       "      <td>246.83</td>\n",
       "      <td>247.2700</td>\n",
       "      <td>61719353</td>\n",
       "      <td>192921</td>\n",
       "      <td>247.739709</td>\n",
       "      <td>-0.002300</td>\n",
       "      <td>109.67</td>\n",
       "      <td>109.69</td>\n",
       "      <td>109.5000</td>\n",
       "      <td>109.580</td>\n",
       "      <td>2570876</td>\n",
       "      <td>12663</td>\n",
       "      <td>109.577636</td>\n",
       "      <td>-0.000957</td>\n",
       "    </tr>\n",
       "    <tr>\n",
       "      <th>2017-08-09 04:00:00+00:00</th>\n",
       "      <td>246.47</td>\n",
       "      <td>247.31</td>\n",
       "      <td>246.06</td>\n",
       "      <td>247.2700</td>\n",
       "      <td>62632619</td>\n",
       "      <td>223650</td>\n",
       "      <td>246.791421</td>\n",
       "      <td>0.000000</td>\n",
       "      <td>109.87</td>\n",
       "      <td>109.87</td>\n",
       "      <td>109.6600</td>\n",
       "      <td>109.670</td>\n",
       "      <td>2308932</td>\n",
       "      <td>11031</td>\n",
       "      <td>109.771749</td>\n",
       "      <td>0.000821</td>\n",
       "    </tr>\n",
       "    <tr>\n",
       "      <th>2017-08-10 04:00:00+00:00</th>\n",
       "      <td>246.29</td>\n",
       "      <td>246.44</td>\n",
       "      <td>243.70</td>\n",
       "      <td>243.7599</td>\n",
       "      <td>120418270</td>\n",
       "      <td>424321</td>\n",
       "      <td>245.027847</td>\n",
       "      <td>-0.014195</td>\n",
       "      <td>109.70</td>\n",
       "      <td>109.85</td>\n",
       "      <td>109.6700</td>\n",
       "      <td>109.800</td>\n",
       "      <td>2004163</td>\n",
       "      <td>12437</td>\n",
       "      <td>109.776611</td>\n",
       "      <td>0.001185</td>\n",
       "    </tr>\n",
       "    <tr>\n",
       "      <th>2017-08-11 04:00:00+00:00</th>\n",
       "      <td>244.02</td>\n",
       "      <td>244.80</td>\n",
       "      <td>243.75</td>\n",
       "      <td>244.1100</td>\n",
       "      <td>74869947</td>\n",
       "      <td>278786</td>\n",
       "      <td>244.222867</td>\n",
       "      <td>0.001436</td>\n",
       "      <td>109.75</td>\n",
       "      <td>109.94</td>\n",
       "      <td>109.6800</td>\n",
       "      <td>109.870</td>\n",
       "      <td>1913253</td>\n",
       "      <td>10113</td>\n",
       "      <td>109.860974</td>\n",
       "      <td>0.000638</td>\n",
       "    </tr>\n",
       "  </tbody>\n",
       "</table>\n",
       "</div>"
      ],
      "text/plain": [
       "                              SPY                                       \\\n",
       "                             open    high     low     close     volume   \n",
       "timestamp                                                                \n",
       "2017-08-07 04:00:00+00:00  247.49  247.87  247.37  247.8400   31995021   \n",
       "2017-08-08 04:00:00+00:00  247.51  248.91  246.83  247.2700   61719353   \n",
       "2017-08-09 04:00:00+00:00  246.47  247.31  246.06  247.2700   62632619   \n",
       "2017-08-10 04:00:00+00:00  246.29  246.44  243.70  243.7599  120418270   \n",
       "2017-08-11 04:00:00+00:00  244.02  244.80  243.75  244.1100   74869947   \n",
       "\n",
       "                                                                   AGG  \\\n",
       "                          trade_count        vwap daily_return    open   \n",
       "timestamp                                                                \n",
       "2017-08-07 04:00:00+00:00      100111  247.668698          NaN  109.69   \n",
       "2017-08-08 04:00:00+00:00      192921  247.739709    -0.002300  109.67   \n",
       "2017-08-09 04:00:00+00:00      223650  246.791421     0.000000  109.87   \n",
       "2017-08-10 04:00:00+00:00      424321  245.027847    -0.014195  109.70   \n",
       "2017-08-11 04:00:00+00:00      278786  244.222867     0.001436  109.75   \n",
       "\n",
       "                                                                           \\\n",
       "                             high       low    close   volume trade_count   \n",
       "timestamp                                                                   \n",
       "2017-08-07 04:00:00+00:00  109.72  109.6066  109.685  2359826        7755   \n",
       "2017-08-08 04:00:00+00:00  109.69  109.5000  109.580  2570876       12663   \n",
       "2017-08-09 04:00:00+00:00  109.87  109.6600  109.670  2308932       11031   \n",
       "2017-08-10 04:00:00+00:00  109.85  109.6700  109.800  2004163       12437   \n",
       "2017-08-11 04:00:00+00:00  109.94  109.6800  109.870  1913253       10113   \n",
       "\n",
       "                                                    \n",
       "                                 vwap daily_return  \n",
       "timestamp                                           \n",
       "2017-08-07 04:00:00+00:00  109.674876          NaN  \n",
       "2017-08-08 04:00:00+00:00  109.577636    -0.000957  \n",
       "2017-08-09 04:00:00+00:00  109.771749     0.000821  \n",
       "2017-08-10 04:00:00+00:00  109.776611     0.001185  \n",
       "2017-08-11 04:00:00+00:00  109.860974     0.000638  "
      ]
     },
     "execution_count": 42,
     "metadata": {},
     "output_type": "execute_result"
    }
   ],
   "source": [
    "# Configure a Monte Carlo simulation to forecast 10 years cumulative returns\n",
    "# The weights should be split 20% to AGG and 80% to SPY.\n",
    "# Run 500 samples.\n",
    "MC_10year = MCSimulation(\n",
    "    portfolio_data = prices_df,\n",
    "    weights = [.80,.20],\n",
    "    num_simulation = 500,\n",
    "    num_trading_days = 252*10\n",
    ")\n",
    "\n",
    "# Review the simulation input data\n",
    "MC_10year.portfolio_data.head()\n"
   ]
  },
  {
   "cell_type": "code",
   "execution_count": 43,
   "metadata": {},
   "outputs": [
    {
     "name": "stdout",
     "output_type": "stream",
     "text": [
      "Running Monte Carlo simulation number 0.\n",
      "Running Monte Carlo simulation number 10.\n",
      "Running Monte Carlo simulation number 20.\n",
      "Running Monte Carlo simulation number 30.\n",
      "Running Monte Carlo simulation number 40.\n",
      "Running Monte Carlo simulation number 50.\n",
      "Running Monte Carlo simulation number 60.\n",
      "Running Monte Carlo simulation number 70.\n",
      "Running Monte Carlo simulation number 80.\n",
      "Running Monte Carlo simulation number 90.\n",
      "Running Monte Carlo simulation number 100.\n"
     ]
    },
    {
     "name": "stderr",
     "output_type": "stream",
     "text": [
      "/Users/alphonsologan/Desktop/Bootcamp/financial_planning/MCForecastTools.py:117: PerformanceWarning: DataFrame is highly fragmented.  This is usually the result of calling `frame.insert` many times, which has poor performance.  Consider joining all columns at once using pd.concat(axis=1) instead.  To get a de-fragmented frame, use `newframe = frame.copy()`\n",
      "  portfolio_cumulative_returns[n] = (1 + sim_df.fillna(0)).cumprod()\n"
     ]
    },
    {
     "name": "stdout",
     "output_type": "stream",
     "text": [
      "Running Monte Carlo simulation number 110.\n",
      "Running Monte Carlo simulation number 120.\n",
      "Running Monte Carlo simulation number 130.\n",
      "Running Monte Carlo simulation number 140.\n",
      "Running Monte Carlo simulation number 150.\n",
      "Running Monte Carlo simulation number 160.\n",
      "Running Monte Carlo simulation number 170.\n",
      "Running Monte Carlo simulation number 180.\n",
      "Running Monte Carlo simulation number 190.\n",
      "Running Monte Carlo simulation number 200.\n",
      "Running Monte Carlo simulation number 210.\n",
      "Running Monte Carlo simulation number 220.\n",
      "Running Monte Carlo simulation number 230.\n",
      "Running Monte Carlo simulation number 240.\n",
      "Running Monte Carlo simulation number 250.\n",
      "Running Monte Carlo simulation number 260.\n",
      "Running Monte Carlo simulation number 270.\n",
      "Running Monte Carlo simulation number 280.\n",
      "Running Monte Carlo simulation number 290.\n",
      "Running Monte Carlo simulation number 300.\n",
      "Running Monte Carlo simulation number 310.\n",
      "Running Monte Carlo simulation number 320.\n",
      "Running Monte Carlo simulation number 330.\n",
      "Running Monte Carlo simulation number 340.\n",
      "Running Monte Carlo simulation number 350.\n",
      "Running Monte Carlo simulation number 360.\n",
      "Running Monte Carlo simulation number 370.\n",
      "Running Monte Carlo simulation number 380.\n",
      "Running Monte Carlo simulation number 390.\n",
      "Running Monte Carlo simulation number 400.\n",
      "Running Monte Carlo simulation number 410.\n",
      "Running Monte Carlo simulation number 420.\n",
      "Running Monte Carlo simulation number 430.\n",
      "Running Monte Carlo simulation number 440.\n",
      "Running Monte Carlo simulation number 450.\n",
      "Running Monte Carlo simulation number 460.\n",
      "Running Monte Carlo simulation number 470.\n",
      "Running Monte Carlo simulation number 480.\n",
      "Running Monte Carlo simulation number 490.\n"
     ]
    },
    {
     "data": {
      "text/html": [
       "<div>\n",
       "<style scoped>\n",
       "    .dataframe tbody tr th:only-of-type {\n",
       "        vertical-align: middle;\n",
       "    }\n",
       "\n",
       "    .dataframe tbody tr th {\n",
       "        vertical-align: top;\n",
       "    }\n",
       "\n",
       "    .dataframe thead th {\n",
       "        text-align: right;\n",
       "    }\n",
       "</style>\n",
       "<table border=\"1\" class=\"dataframe\">\n",
       "  <thead>\n",
       "    <tr style=\"text-align: right;\">\n",
       "      <th></th>\n",
       "      <th>0</th>\n",
       "      <th>1</th>\n",
       "      <th>2</th>\n",
       "      <th>3</th>\n",
       "      <th>4</th>\n",
       "      <th>5</th>\n",
       "      <th>6</th>\n",
       "      <th>7</th>\n",
       "      <th>8</th>\n",
       "      <th>9</th>\n",
       "      <th>...</th>\n",
       "      <th>490</th>\n",
       "      <th>491</th>\n",
       "      <th>492</th>\n",
       "      <th>493</th>\n",
       "      <th>494</th>\n",
       "      <th>495</th>\n",
       "      <th>496</th>\n",
       "      <th>497</th>\n",
       "      <th>498</th>\n",
       "      <th>499</th>\n",
       "    </tr>\n",
       "  </thead>\n",
       "  <tbody>\n",
       "    <tr>\n",
       "      <th>0</th>\n",
       "      <td>1.000000</td>\n",
       "      <td>1.000000</td>\n",
       "      <td>1.000000</td>\n",
       "      <td>1.000000</td>\n",
       "      <td>1.000000</td>\n",
       "      <td>1.000000</td>\n",
       "      <td>1.000000</td>\n",
       "      <td>1.000000</td>\n",
       "      <td>1.000000</td>\n",
       "      <td>1.000000</td>\n",
       "      <td>...</td>\n",
       "      <td>1.000000</td>\n",
       "      <td>1.000000</td>\n",
       "      <td>1.000000</td>\n",
       "      <td>1.000000</td>\n",
       "      <td>1.000000</td>\n",
       "      <td>1.000000</td>\n",
       "      <td>1.000000</td>\n",
       "      <td>1.000000</td>\n",
       "      <td>1.000000</td>\n",
       "      <td>1.000000</td>\n",
       "    </tr>\n",
       "    <tr>\n",
       "      <th>1</th>\n",
       "      <td>1.013833</td>\n",
       "      <td>0.987133</td>\n",
       "      <td>0.998868</td>\n",
       "      <td>1.019488</td>\n",
       "      <td>1.032086</td>\n",
       "      <td>0.995941</td>\n",
       "      <td>0.986307</td>\n",
       "      <td>0.999462</td>\n",
       "      <td>0.984760</td>\n",
       "      <td>0.977516</td>\n",
       "      <td>...</td>\n",
       "      <td>1.000335</td>\n",
       "      <td>1.011400</td>\n",
       "      <td>0.996245</td>\n",
       "      <td>1.008017</td>\n",
       "      <td>1.002617</td>\n",
       "      <td>1.015778</td>\n",
       "      <td>0.996261</td>\n",
       "      <td>1.006310</td>\n",
       "      <td>1.011607</td>\n",
       "      <td>1.010933</td>\n",
       "    </tr>\n",
       "    <tr>\n",
       "      <th>2</th>\n",
       "      <td>1.022693</td>\n",
       "      <td>0.999105</td>\n",
       "      <td>1.000459</td>\n",
       "      <td>1.020361</td>\n",
       "      <td>1.027402</td>\n",
       "      <td>0.982546</td>\n",
       "      <td>0.980752</td>\n",
       "      <td>0.971898</td>\n",
       "      <td>0.984652</td>\n",
       "      <td>0.966509</td>\n",
       "      <td>...</td>\n",
       "      <td>1.010613</td>\n",
       "      <td>0.996683</td>\n",
       "      <td>1.011196</td>\n",
       "      <td>0.985853</td>\n",
       "      <td>1.014183</td>\n",
       "      <td>1.036918</td>\n",
       "      <td>0.999936</td>\n",
       "      <td>0.995387</td>\n",
       "      <td>1.018679</td>\n",
       "      <td>1.024625</td>\n",
       "    </tr>\n",
       "    <tr>\n",
       "      <th>3</th>\n",
       "      <td>1.019702</td>\n",
       "      <td>0.986203</td>\n",
       "      <td>1.001462</td>\n",
       "      <td>1.014603</td>\n",
       "      <td>1.031963</td>\n",
       "      <td>0.991734</td>\n",
       "      <td>0.998018</td>\n",
       "      <td>0.971274</td>\n",
       "      <td>0.998275</td>\n",
       "      <td>0.976346</td>\n",
       "      <td>...</td>\n",
       "      <td>1.011011</td>\n",
       "      <td>0.979325</td>\n",
       "      <td>1.011512</td>\n",
       "      <td>1.001083</td>\n",
       "      <td>1.010714</td>\n",
       "      <td>1.017781</td>\n",
       "      <td>1.001704</td>\n",
       "      <td>0.987802</td>\n",
       "      <td>1.031063</td>\n",
       "      <td>1.033477</td>\n",
       "    </tr>\n",
       "    <tr>\n",
       "      <th>4</th>\n",
       "      <td>1.018980</td>\n",
       "      <td>0.989794</td>\n",
       "      <td>0.998239</td>\n",
       "      <td>1.027355</td>\n",
       "      <td>1.021383</td>\n",
       "      <td>0.995460</td>\n",
       "      <td>1.014119</td>\n",
       "      <td>0.960506</td>\n",
       "      <td>0.993955</td>\n",
       "      <td>0.981319</td>\n",
       "      <td>...</td>\n",
       "      <td>1.004535</td>\n",
       "      <td>0.967227</td>\n",
       "      <td>1.010649</td>\n",
       "      <td>1.004655</td>\n",
       "      <td>1.002432</td>\n",
       "      <td>1.025354</td>\n",
       "      <td>1.005537</td>\n",
       "      <td>0.980559</td>\n",
       "      <td>1.046256</td>\n",
       "      <td>1.027844</td>\n",
       "    </tr>\n",
       "    <tr>\n",
       "      <th>...</th>\n",
       "      <td>...</td>\n",
       "      <td>...</td>\n",
       "      <td>...</td>\n",
       "      <td>...</td>\n",
       "      <td>...</td>\n",
       "      <td>...</td>\n",
       "      <td>...</td>\n",
       "      <td>...</td>\n",
       "      <td>...</td>\n",
       "      <td>...</td>\n",
       "      <td>...</td>\n",
       "      <td>...</td>\n",
       "      <td>...</td>\n",
       "      <td>...</td>\n",
       "      <td>...</td>\n",
       "      <td>...</td>\n",
       "      <td>...</td>\n",
       "      <td>...</td>\n",
       "      <td>...</td>\n",
       "      <td>...</td>\n",
       "      <td>...</td>\n",
       "    </tr>\n",
       "    <tr>\n",
       "      <th>2516</th>\n",
       "      <td>1.510052</td>\n",
       "      <td>4.368492</td>\n",
       "      <td>2.490438</td>\n",
       "      <td>3.027282</td>\n",
       "      <td>5.431052</td>\n",
       "      <td>1.307793</td>\n",
       "      <td>4.646499</td>\n",
       "      <td>0.795687</td>\n",
       "      <td>2.659104</td>\n",
       "      <td>3.027150</td>\n",
       "      <td>...</td>\n",
       "      <td>1.975123</td>\n",
       "      <td>10.841767</td>\n",
       "      <td>2.431604</td>\n",
       "      <td>3.881238</td>\n",
       "      <td>3.507869</td>\n",
       "      <td>3.483955</td>\n",
       "      <td>1.879884</td>\n",
       "      <td>1.827987</td>\n",
       "      <td>5.140430</td>\n",
       "      <td>1.206240</td>\n",
       "    </tr>\n",
       "    <tr>\n",
       "      <th>2517</th>\n",
       "      <td>1.515155</td>\n",
       "      <td>4.383674</td>\n",
       "      <td>2.513244</td>\n",
       "      <td>2.991735</td>\n",
       "      <td>5.428349</td>\n",
       "      <td>1.282847</td>\n",
       "      <td>4.629270</td>\n",
       "      <td>0.785218</td>\n",
       "      <td>2.647387</td>\n",
       "      <td>3.048335</td>\n",
       "      <td>...</td>\n",
       "      <td>1.956006</td>\n",
       "      <td>10.951455</td>\n",
       "      <td>2.467994</td>\n",
       "      <td>3.849687</td>\n",
       "      <td>3.433405</td>\n",
       "      <td>3.543061</td>\n",
       "      <td>1.879836</td>\n",
       "      <td>1.830107</td>\n",
       "      <td>5.227965</td>\n",
       "      <td>1.208374</td>\n",
       "    </tr>\n",
       "    <tr>\n",
       "      <th>2518</th>\n",
       "      <td>1.531711</td>\n",
       "      <td>4.388016</td>\n",
       "      <td>2.478743</td>\n",
       "      <td>2.957783</td>\n",
       "      <td>5.359837</td>\n",
       "      <td>1.285104</td>\n",
       "      <td>4.559949</td>\n",
       "      <td>0.784206</td>\n",
       "      <td>2.616661</td>\n",
       "      <td>3.074883</td>\n",
       "      <td>...</td>\n",
       "      <td>1.973572</td>\n",
       "      <td>11.072823</td>\n",
       "      <td>2.486778</td>\n",
       "      <td>3.844972</td>\n",
       "      <td>3.424231</td>\n",
       "      <td>3.608777</td>\n",
       "      <td>1.869770</td>\n",
       "      <td>1.819724</td>\n",
       "      <td>5.286794</td>\n",
       "      <td>1.214529</td>\n",
       "    </tr>\n",
       "    <tr>\n",
       "      <th>2519</th>\n",
       "      <td>1.543791</td>\n",
       "      <td>4.442457</td>\n",
       "      <td>2.470357</td>\n",
       "      <td>2.934055</td>\n",
       "      <td>5.312602</td>\n",
       "      <td>1.309586</td>\n",
       "      <td>4.587462</td>\n",
       "      <td>0.769922</td>\n",
       "      <td>2.652022</td>\n",
       "      <td>3.111175</td>\n",
       "      <td>...</td>\n",
       "      <td>1.952201</td>\n",
       "      <td>11.045914</td>\n",
       "      <td>2.474729</td>\n",
       "      <td>3.832702</td>\n",
       "      <td>3.413606</td>\n",
       "      <td>3.669856</td>\n",
       "      <td>1.875744</td>\n",
       "      <td>1.792050</td>\n",
       "      <td>5.321545</td>\n",
       "      <td>1.196842</td>\n",
       "    </tr>\n",
       "    <tr>\n",
       "      <th>2520</th>\n",
       "      <td>1.549843</td>\n",
       "      <td>4.492670</td>\n",
       "      <td>2.437901</td>\n",
       "      <td>2.916994</td>\n",
       "      <td>5.392152</td>\n",
       "      <td>1.352876</td>\n",
       "      <td>4.614942</td>\n",
       "      <td>0.776688</td>\n",
       "      <td>2.643900</td>\n",
       "      <td>3.127806</td>\n",
       "      <td>...</td>\n",
       "      <td>1.961036</td>\n",
       "      <td>11.100017</td>\n",
       "      <td>2.480150</td>\n",
       "      <td>3.865653</td>\n",
       "      <td>3.423490</td>\n",
       "      <td>3.605024</td>\n",
       "      <td>1.894544</td>\n",
       "      <td>1.774819</td>\n",
       "      <td>5.315313</td>\n",
       "      <td>1.198482</td>\n",
       "    </tr>\n",
       "  </tbody>\n",
       "</table>\n",
       "<p>2521 rows × 500 columns</p>\n",
       "</div>"
      ],
      "text/plain": [
       "           0         1         2         3         4         5         6    \\\n",
       "0     1.000000  1.000000  1.000000  1.000000  1.000000  1.000000  1.000000   \n",
       "1     1.013833  0.987133  0.998868  1.019488  1.032086  0.995941  0.986307   \n",
       "2     1.022693  0.999105  1.000459  1.020361  1.027402  0.982546  0.980752   \n",
       "3     1.019702  0.986203  1.001462  1.014603  1.031963  0.991734  0.998018   \n",
       "4     1.018980  0.989794  0.998239  1.027355  1.021383  0.995460  1.014119   \n",
       "...        ...       ...       ...       ...       ...       ...       ...   \n",
       "2516  1.510052  4.368492  2.490438  3.027282  5.431052  1.307793  4.646499   \n",
       "2517  1.515155  4.383674  2.513244  2.991735  5.428349  1.282847  4.629270   \n",
       "2518  1.531711  4.388016  2.478743  2.957783  5.359837  1.285104  4.559949   \n",
       "2519  1.543791  4.442457  2.470357  2.934055  5.312602  1.309586  4.587462   \n",
       "2520  1.549843  4.492670  2.437901  2.916994  5.392152  1.352876  4.614942   \n",
       "\n",
       "           7         8         9    ...       490        491       492  \\\n",
       "0     1.000000  1.000000  1.000000  ...  1.000000   1.000000  1.000000   \n",
       "1     0.999462  0.984760  0.977516  ...  1.000335   1.011400  0.996245   \n",
       "2     0.971898  0.984652  0.966509  ...  1.010613   0.996683  1.011196   \n",
       "3     0.971274  0.998275  0.976346  ...  1.011011   0.979325  1.011512   \n",
       "4     0.960506  0.993955  0.981319  ...  1.004535   0.967227  1.010649   \n",
       "...        ...       ...       ...  ...       ...        ...       ...   \n",
       "2516  0.795687  2.659104  3.027150  ...  1.975123  10.841767  2.431604   \n",
       "2517  0.785218  2.647387  3.048335  ...  1.956006  10.951455  2.467994   \n",
       "2518  0.784206  2.616661  3.074883  ...  1.973572  11.072823  2.486778   \n",
       "2519  0.769922  2.652022  3.111175  ...  1.952201  11.045914  2.474729   \n",
       "2520  0.776688  2.643900  3.127806  ...  1.961036  11.100017  2.480150   \n",
       "\n",
       "           493       494       495       496       497       498       499  \n",
       "0     1.000000  1.000000  1.000000  1.000000  1.000000  1.000000  1.000000  \n",
       "1     1.008017  1.002617  1.015778  0.996261  1.006310  1.011607  1.010933  \n",
       "2     0.985853  1.014183  1.036918  0.999936  0.995387  1.018679  1.024625  \n",
       "3     1.001083  1.010714  1.017781  1.001704  0.987802  1.031063  1.033477  \n",
       "4     1.004655  1.002432  1.025354  1.005537  0.980559  1.046256  1.027844  \n",
       "...        ...       ...       ...       ...       ...       ...       ...  \n",
       "2516  3.881238  3.507869  3.483955  1.879884  1.827987  5.140430  1.206240  \n",
       "2517  3.849687  3.433405  3.543061  1.879836  1.830107  5.227965  1.208374  \n",
       "2518  3.844972  3.424231  3.608777  1.869770  1.819724  5.286794  1.214529  \n",
       "2519  3.832702  3.413606  3.669856  1.875744  1.792050  5.321545  1.196842  \n",
       "2520  3.865653  3.423490  3.605024  1.894544  1.774819  5.315313  1.198482  \n",
       "\n",
       "[2521 rows x 500 columns]"
      ]
     },
     "execution_count": 43,
     "metadata": {},
     "output_type": "execute_result"
    }
   ],
   "source": [
    "# Run the Monte Carlo simulation to forecast 10 years cumulative returns\n",
    "MC_10year.calc_cumulative_return()\n"
   ]
  },
  {
   "cell_type": "code",
   "execution_count": 44,
   "metadata": {},
   "outputs": [
    {
     "data": {
      "image/png": "[encoded data removed]",
      "text/plain": [
       "<Figure size 640x480 with 1 Axes>"
      ]
     },
     "metadata": {},
     "output_type": "display_data"
    }
   ],
   "source": [
    "# Visualize the 10-year Monte Carlo simulation by creating an\n",
    "# overlay line plot\n",
    "MC_sim_line_plot = MC_10year.plot_simulation()\n",
    "MC_sim_line_plot.get_figure().savefig(\"MC_30year_sim_plot.png\", bbox_inches=\"tight\")\n"
   ]
  },
  {
   "cell_type": "code",
   "execution_count": 45,
   "metadata": {},
   "outputs": [
    {
     "data": {
      "image/png": "[encoded data removed]",
      "text/plain": [
       "<Figure size 640x480 with 1 Axes>"
      ]
     },
     "metadata": {},
     "output_type": "display_data"
    }
   ],
   "source": [
    "# Visualize the probability distribution of the 10-year Monte Carlo simulation \n",
    "# by plotting a histogram\n",
    "MC_sim_dist_plot = MC_10year.plot_distribution()\n",
    "MC_sim_dist_plot.get_figure().savefig('MC_30year_dist_plot.png',bbox_inches='tight')\n"
   ]
  },
  {
   "cell_type": "code",
   "execution_count": 47,
   "metadata": {},
   "outputs": [
    {
     "name": "stdout",
     "output_type": "stream",
     "text": [
      "count           500.000000\n",
      "mean              2.862486\n",
      "std               1.762790\n",
      "min               0.500437\n",
      "25%               1.662213\n",
      "50%               2.475092\n",
      "75%               3.478649\n",
      "max              14.028278\n",
      "95% CI Lower      0.849779\n",
      "95% CI Upper      7.817898\n",
      "Name: 2520, dtype: float64\n"
     ]
    }
   ],
   "source": [
    "# Generate summary statistics from the 10-year Monte Carlo simulation results\n",
    "# Save the results as a variable\n",
    "MC_summary_statistics = MC_10year.summarize_cumulative_return()\n",
    "\n",
    "\n",
    "# Review the 10-year Monte Carlo summary statistics\n",
    "print(MC_summary_statistics)"
   ]
  },
  {
   "cell_type": "markdown",
   "metadata": {},
   "source": [
    "### Answer the following questions:"
   ]
  },
  {
   "cell_type": "markdown",
   "metadata": {},
   "source": [
    "#### Question: Using the current value of only the stock and bond portion of the member's portfolio and the summary statistics that you generated from the new Monte Carlo simulation, what are the lower and upper bounds for the expected value of the portfolio (with the new weights) with a 95% confidence interval?"
   ]
  },
  {
   "cell_type": "code",
   "execution_count": 48,
   "metadata": {},
   "outputs": [
    {
     "name": "stdout",
     "output_type": "stream",
     "text": [
      "60688.7\n"
     ]
    }
   ],
   "source": [
    "# Print the current balance of the stock and bond portion of the members portfolio\n",
    "print(total_stocks_bonds)\n"
   ]
  },
  {
   "cell_type": "code",
   "execution_count": 49,
   "metadata": {},
   "outputs": [
    {
     "name": "stdout",
     "output_type": "stream",
     "text": [
      "There is a 95% chance that an initial investment of $60688.7 in the portfolio over the next 10 years will end within in the range of $ 155180.14 and $ 2848974.54.\n"
     ]
    }
   ],
   "source": [
    "# Use the lower and upper `95%` confidence intervals to calculate the range of the possible outcomes for the current stock/bond portfolio\n",
    "ci_lower_ten_cumulative_return = MC_summary_statistics[8] * total_stocks_bonds\n",
    "ci_upper_ten_cumulative_return = MC_summary_statistics[9] * total_stocks_bonds\n",
    "\n",
    "# Print the result of your calculations\n",
    "print(f\"There is a 95% chance that an initial investment of ${total_stocks_bonds} in the portfolio\"\n",
    "    f\" over the next 10 years will end within in the range of\"\n",
    "    f\" ${ci_lower_thirty_cumulative_return: .2f} and ${ci_upper_thirty_cumulative_return: .2f}.\")\n"
   ]
  },
  {
   "cell_type": "markdown",
   "metadata": {},
   "source": [
    "#### Question: Will weighting the portfolio more heavily to stocks allow the credit union members to retire after only 10 years?"
   ]
  },
  {
   "cell_type": "raw",
   "metadata": {},
   "source": [
    "**Answer** Yes"
   ]
  },
  {
   "cell_type": "code",
   "execution_count": null,
   "metadata": {},
   "outputs": [],
   "source": []
  }
 ],
 "metadata": {
  "kernelspec": {
   "display_name": "Python 3.7.16 ('dev')",
   "language": "python",
   "name": "python3"
  },
  "language_info": {
   "codemirror_mode": {
    "name": "ipython",
    "version": 3
   },
   "file_extension": ".py",
   "mimetype": "text/x-python",
   "name": "python",
   "nbconvert_exporter": "python",
   "pygments_lexer": "ipython3",
   "version": "3.7.16"
  },
  "vscode": {
   "interpreter": {
    "hash": "61c774ee2c6fa7d835757f3dd1e808b2e168ca01b8087fee329d8d281df0070e"
   }
  }
 },
 "nbformat": 4,
 "nbformat_minor": 4
}
